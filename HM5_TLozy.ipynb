{
 "cells": [
  {
   "cell_type": "markdown",
   "metadata": {},
   "source": [
    "# Home 5: Build a seq2seq model for machine translation.\n",
    "\n",
    "### Name: Tara Lozy\n",
    "\n",
    "### Task: Translate English to Italian"
   ]
  },
  {
   "cell_type": "markdown",
   "metadata": {},
   "source": [
    "## 0. You will do the following:\n",
    "\n",
    "1. Read and run my code.\n",
    "2. Complete the code in Section 1.1 and Section 4.2.\n",
    "\n",
    "    * Translation **English** to **German** is not acceptable!!! Try another pair of languages.\n",
    "    \n",
    "3. **Make improvements.** Directly modify the code in Section 3. Do at least one of the two. By doing both correctly, you will get up to 1 bonus score to the total.\n",
    "\n",
    "    * Bi-LSTM instead of LSTM.\n",
    "        \n",
    "    * Attention. (You are allowed to use existing code.)\n",
    "    \n",
    "4. Evaluate the translation using the BLEU score. \n",
    "\n",
    "    * Optional. Up to 1 bonus scores to the total.\n",
    "    \n",
    "5. Convert the notebook to .HTML file. \n",
    "\n",
    "    * The HTML file must contain the code and the output after execution.\n",
    "\n",
    "6. Put the .HTML file in your Google Drive, Dropbox, or Github repo.  (If you submit the file to Google Drive or Dropbox, you must make the file \"open-access\". The delay caused by \"deny of access\" may result in late penalty.)\n",
    "\n",
    "7. Submit the link to the HTML file to Canvas.    \n"
   ]
  },
  {
   "cell_type": "markdown",
   "metadata": {},
   "source": [
    "### Hint: \n",
    "\n",
    "To implement ```Bi-LSTM```, you will need the following code to build the encoder. Do NOT use Bi-LSTM for the decoder."
   ]
  },
  {
   "cell_type": "code",
   "execution_count": 2,
   "metadata": {},
   "outputs": [
    {
     "ename": "NameError",
     "evalue": "name 'LSTM' is not defined",
     "output_type": "error",
     "traceback": [
      "\u001b[1;31m---------------------------------------------------------------------------\u001b[0m",
      "\u001b[1;31mNameError\u001b[0m                                 Traceback (most recent call last)",
      "\u001b[1;32m<ipython-input-2-e9dacc840b2a>\u001b[0m in \u001b[0;36m<module>\u001b[1;34m\u001b[0m\n\u001b[0;32m      1\u001b[0m \u001b[1;32mfrom\u001b[0m \u001b[0mkeras\u001b[0m\u001b[1;33m.\u001b[0m\u001b[0mlayers\u001b[0m \u001b[1;32mimport\u001b[0m \u001b[0mBidirectional\u001b[0m\u001b[1;33m,\u001b[0m \u001b[0mConcatenate\u001b[0m\u001b[1;33m\u001b[0m\u001b[1;33m\u001b[0m\u001b[0m\n\u001b[0;32m      2\u001b[0m \u001b[1;33m\u001b[0m\u001b[0m\n\u001b[1;32m----> 3\u001b[1;33m encoder_bilstm = Bidirectional(LSTM(latent_dim, return_state=True, \n\u001b[0m\u001b[0;32m      4\u001b[0m                                   dropout=0.5, name='encoder_lstm'))\n\u001b[0;32m      5\u001b[0m \u001b[0m_\u001b[0m\u001b[1;33m,\u001b[0m \u001b[0mforward_h\u001b[0m\u001b[1;33m,\u001b[0m \u001b[0mforward_c\u001b[0m\u001b[1;33m,\u001b[0m \u001b[0mbackward_h\u001b[0m\u001b[1;33m,\u001b[0m \u001b[0mbackward_c\u001b[0m \u001b[1;33m=\u001b[0m \u001b[0mencoder_bilstm\u001b[0m\u001b[1;33m(\u001b[0m\u001b[0mencoder_inputs\u001b[0m\u001b[1;33m)\u001b[0m\u001b[1;33m\u001b[0m\u001b[1;33m\u001b[0m\u001b[0m\n",
      "\u001b[1;31mNameError\u001b[0m: name 'LSTM' is not defined"
     ]
    }
   ],
   "source": [
    "from keras.layers import Bidirectional, Concatenate\n",
    "\n",
    "encoder_bilstm = Bidirectional(LSTM(latent_dim, return_state=True, \n",
    "                                  dropout=0.5, name='encoder_lstm'))\n",
    "_, forward_h, forward_c, backward_h, backward_c = encoder_bilstm(encoder_inputs)\n",
    "\n",
    "state_h = Concatenate()([forward_h, backward_h])\n",
    "state_c = Concatenate()([forward_c, backward_c])"
   ]
  },
  {
   "cell_type": "markdown",
   "metadata": {},
   "source": [
    "## 1. Data preparation\n",
    "\n",
    "1. Download data (e.g., \"deu-eng.zip\") from http://www.manythings.org/anki/\n",
    "2. Unzip the .ZIP file.\n",
    "3. Put the .TXT file (e.g., \"deu.txt\") in the directory \"./Data/\"."
   ]
  },
  {
   "cell_type": "markdown",
   "metadata": {},
   "source": [
    "### 1.1. Load and clean text\n"
   ]
  },
  {
   "cell_type": "code",
   "execution_count": 3,
   "metadata": {},
   "outputs": [],
   "source": [
    "import re\n",
    "import string\n",
    "from unicodedata import normalize\n",
    "import numpy\n",
    "\n",
    "# load doc into memory\n",
    "def load_doc(filename):\n",
    "    # open the file as read only\n",
    "    file = open(filename, mode='rt', encoding='utf-8')\n",
    "    # read all text\n",
    "    text = file.read()\n",
    "    # close the file\n",
    "    file.close()\n",
    "    return text\n",
    "\n",
    "\n",
    "# split a loaded document into sentences\n",
    "def to_pairs(doc):\n",
    "    lines = doc.strip().split('\\n')\n",
    "    pairs = [line.split('\\t') for line in  lines]\n",
    "    return pairs\n",
    "\n",
    "def clean_data(lines):\n",
    "    cleaned = list()\n",
    "    # prepare regex for char filtering\n",
    "    re_print = re.compile('[^%s]' % re.escape(string.printable))\n",
    "    # prepare translation table for removing punctuation\n",
    "    table = str.maketrans('', '', string.punctuation)\n",
    "    for pair in lines:\n",
    "        clean_pair = list()\n",
    "        for line in pair:\n",
    "            # normalize unicode characters\n",
    "            line = normalize('NFD', line).encode('ascii', 'ignore')\n",
    "            line = line.decode('UTF-8')\n",
    "            # tokenize on white space\n",
    "            line = line.split()\n",
    "            # convert to lowercase\n",
    "            line = [word.lower() for word in line]\n",
    "            # remove punctuation from each token\n",
    "            line = [word.translate(table) for word in line]\n",
    "            # remove non-printable chars form each token\n",
    "            line = [re_print.sub('', w) for w in line]\n",
    "            # remove tokens with numbers in them\n",
    "            line = [word for word in line if word.isalpha()]\n",
    "            # store as string\n",
    "            clean_pair.append(' '.join(line))\n",
    "        cleaned.append(clean_pair)\n",
    "    return numpy.array(cleaned)"
   ]
  },
  {
   "cell_type": "markdown",
   "metadata": {},
   "source": [
    "#### Fill the following blanks:"
   ]
  },
  {
   "cell_type": "code",
   "execution_count": 4,
   "metadata": {},
   "outputs": [],
   "source": [
    "# e.g., filename = 'Data/deu.txt'\n",
    "filename = 'ita.txt'\n",
    "\n",
    "# e.g., n_train = 20000\n",
    "n_train = 20000"
   ]
  },
  {
   "cell_type": "code",
   "execution_count": 5,
   "metadata": {},
   "outputs": [],
   "source": [
    "# load dataset\n",
    "doc = load_doc(filename)\n",
    "\n",
    "# split into Language1-Language2 pairs\n",
    "pairs = to_pairs(doc)\n",
    "\n",
    "# clean sentences\n",
    "clean_pairs = clean_data(pairs)[0:n_train, :]"
   ]
  },
  {
   "cell_type": "code",
   "execution_count": 6,
   "metadata": {},
   "outputs": [
    {
     "name": "stdout",
     "output_type": "stream",
     "text": [
      "[i resigned] => [diedi le dimissioni]\n",
      "[i resigned] => [io diedi le dimissioni]\n",
      "[i saw them] => [li ho visti]\n",
      "[i saw them] => [io li ho visti]\n",
      "[i saw them] => [le ho viste]\n",
      "[i saw them] => [io le ho viste]\n",
      "[i screamed] => [ho urlato]\n",
      "[i screamed] => [io ho urlato]\n",
      "[i screamed] => [urlai]\n",
      "[i screamed] => [io urlai]\n"
     ]
    }
   ],
   "source": [
    "for i in range(3000, 3010):\n",
    "    print('[' + clean_pairs[i, 0] + '] => [' + clean_pairs[i, 1] + ']')"
   ]
  },
  {
   "cell_type": "code",
   "execution_count": 7,
   "metadata": {},
   "outputs": [
    {
     "name": "stdout",
     "output_type": "stream",
     "text": [
      "Length of input_texts:  (20000,)\n",
      "Length of target_texts: (20000,)\n"
     ]
    }
   ],
   "source": [
    "input_texts = clean_pairs[:, 0]\n",
    "target_texts = ['\\t' + text + '\\n' for text in clean_pairs[:, 1]]\n",
    "\n",
    "print('Length of input_texts:  ' + str(input_texts.shape))\n",
    "print('Length of target_texts: ' + str(input_texts.shape))"
   ]
  },
  {
   "cell_type": "code",
   "execution_count": 8,
   "metadata": {},
   "outputs": [
    {
     "name": "stdout",
     "output_type": "stream",
     "text": [
      "max length of input  sentences: 14\n",
      "max length of target sentences: 41\n"
     ]
    }
   ],
   "source": [
    "max_encoder_seq_length = max(len(line) for line in input_texts)\n",
    "max_decoder_seq_length = max(len(line) for line in target_texts)\n",
    "\n",
    "print('max length of input  sentences: %d' % (max_encoder_seq_length))\n",
    "print('max length of target sentences: %d' % (max_decoder_seq_length))"
   ]
  },
  {
   "cell_type": "markdown",
   "metadata": {},
   "source": [
    "**Remark:** To this end, you have two lists of sentences: input_texts and target_texts"
   ]
  },
  {
   "cell_type": "markdown",
   "metadata": {},
   "source": [
    "## 2. Text processing\n",
    "\n",
    "### 2.1. Convert texts to sequences\n",
    "\n",
    "- Input: A list of $n$ sentences (with max length $t$).\n",
    "- It is represented by a $n\\times t$ matrix after the tokenization and zero-padding."
   ]
  },
  {
   "cell_type": "code",
   "execution_count": 9,
   "metadata": {},
   "outputs": [
    {
     "name": "stdout",
     "output_type": "stream",
     "text": [
      "shape of encoder_input_seq: (20000, 14)\n",
      "shape of input_token_index: 27\n",
      "shape of decoder_input_seq: (20000, 41)\n",
      "shape of target_token_index: 29\n"
     ]
    }
   ],
   "source": [
    "from keras.preprocessing.text import Tokenizer\n",
    "from keras.preprocessing.sequence import pad_sequences\n",
    "\n",
    "# encode and pad sequences\n",
    "def text2sequences(max_len, lines):\n",
    "    tokenizer = Tokenizer(char_level=True, filters='')\n",
    "    tokenizer.fit_on_texts(lines)\n",
    "    seqs = tokenizer.texts_to_sequences(lines)\n",
    "    seqs_pad = pad_sequences(seqs, maxlen=max_len, padding='post')\n",
    "    return seqs_pad, tokenizer.word_index\n",
    "\n",
    "\n",
    "encoder_input_seq, input_token_index = text2sequences(max_encoder_seq_length, \n",
    "                                                      input_texts)\n",
    "decoder_input_seq, target_token_index = text2sequences(max_decoder_seq_length, \n",
    "                                                       target_texts)\n",
    "\n",
    "print('shape of encoder_input_seq: ' + str(encoder_input_seq.shape))\n",
    "print('shape of input_token_index: ' + str(len(input_token_index)))\n",
    "print('shape of decoder_input_seq: ' + str(decoder_input_seq.shape))\n",
    "print('shape of target_token_index: ' + str(len(target_token_index)))"
   ]
  },
  {
   "cell_type": "code",
   "execution_count": 10,
   "metadata": {},
   "outputs": [
    {
     "name": "stdout",
     "output_type": "stream",
     "text": [
      "num_encoder_tokens: 28\n",
      "num_decoder_tokens: 30\n"
     ]
    }
   ],
   "source": [
    "num_encoder_tokens = len(input_token_index) + 1\n",
    "num_decoder_tokens = len(target_token_index) + 1\n",
    "\n",
    "print('num_encoder_tokens: ' + str(num_encoder_tokens))\n",
    "print('num_decoder_tokens: ' + str(num_decoder_tokens))"
   ]
  },
  {
   "cell_type": "markdown",
   "metadata": {},
   "source": [
    "**Remark:** To this end, the input language and target language texts are converted to 2 matrices. \n",
    "\n",
    "- Their number of rows are both n_train.\n",
    "- Their number of columns are respective max_encoder_seq_length and max_decoder_seq_length."
   ]
  },
  {
   "cell_type": "markdown",
   "metadata": {},
   "source": [
    "The followings print a sentence and its representation as a sequence."
   ]
  },
  {
   "cell_type": "code",
   "execution_count": 39,
   "metadata": {},
   "outputs": [
    {
     "data": {
      "text/plain": [
       "'\\tcapita\\n'"
      ]
     },
     "execution_count": 39,
     "metadata": {},
     "output_type": "execute_result"
    }
   ],
   "source": [
    "target_texts[100]"
   ]
  },
  {
   "cell_type": "code",
   "execution_count": 40,
   "metadata": {},
   "outputs": [
    {
     "data": {
      "text/plain": [
       "array([ 6, 14,  3, 17,  4,  8,  3,  7,  0,  0,  0,  0,  0,  0,  0,  0,  0,\n",
       "        0,  0,  0,  0,  0,  0,  0,  0,  0,  0,  0,  0,  0,  0,  0,  0,  0,\n",
       "        0,  0,  0,  0,  0,  0,  0])"
      ]
     },
     "execution_count": 40,
     "metadata": {},
     "output_type": "execute_result"
    }
   ],
   "source": [
    "decoder_input_seq[100, :]"
   ]
  },
  {
   "cell_type": "markdown",
   "metadata": {},
   "source": [
    "## 2.2. One-hot encode\n",
    "\n",
    "- Input: A list of $n$ sentences (with max length $t$).\n",
    "- It is represented by a $n\\times t$ matrix after the tokenization and zero-padding.\n",
    "- It is represented by a $n\\times t \\times v$ tensor ($t$ is the number of unique chars) after the one-hot encoding."
   ]
  },
  {
   "cell_type": "code",
   "execution_count": 11,
   "metadata": {},
   "outputs": [
    {
     "name": "stdout",
     "output_type": "stream",
     "text": [
      "(20000, 14, 28)\n",
      "(20000, 41, 30)\n"
     ]
    }
   ],
   "source": [
    "from keras.utils import to_categorical\n",
    "\n",
    "# one hot encode target sequence\n",
    "def onehot_encode(sequences, max_len, vocab_size):\n",
    "    n = len(sequences)\n",
    "    data = numpy.zeros((n, max_len, vocab_size))\n",
    "    for i in range(n):\n",
    "        data[i, :, :] = to_categorical(sequences[i], num_classes=vocab_size)\n",
    "    return data\n",
    "\n",
    "encoder_input_data = onehot_encode(encoder_input_seq, max_encoder_seq_length, num_encoder_tokens)\n",
    "decoder_input_data = onehot_encode(decoder_input_seq, max_decoder_seq_length, num_decoder_tokens)\n",
    "\n",
    "decoder_target_seq = numpy.zeros(decoder_input_seq.shape)\n",
    "decoder_target_seq[:, 0:-1] = decoder_input_seq[:, 1:]\n",
    "decoder_target_data = onehot_encode(decoder_target_seq, \n",
    "                                    max_decoder_seq_length, \n",
    "                                    num_decoder_tokens)\n",
    "\n",
    "print(encoder_input_data.shape)\n",
    "print(decoder_input_data.shape)"
   ]
  },
  {
   "cell_type": "markdown",
   "metadata": {},
   "source": [
    "## 3. Build the networks (for training)\n",
    "\n",
    "- Build encoder, decoder, and connect the two modules to get \"model\". \n",
    "\n",
    "- Fit the model on the bilingual data to train the parameters in the encoder and decoder."
   ]
  },
  {
   "cell_type": "markdown",
   "metadata": {},
   "source": [
    "### 3.1. Encoder network\n",
    "\n",
    "- Input:  one-hot encode of the input language\n",
    "\n",
    "- Return: \n",
    "\n",
    "    -- output (all the hidden states   $h_1, \\cdots , h_t$) are always discarded\n",
    "    \n",
    "    -- the final hidden state  $h_t$\n",
    "    \n",
    "    -- the final conveyor belt $c_t$"
   ]
  },
  {
   "cell_type": "code",
   "execution_count": 12,
   "metadata": {},
   "outputs": [],
   "source": [
    "from keras.layers import Input, LSTM, Bidirectional, Concatenate\n",
    "from keras.models import Model\n",
    "\n",
    "latent_dim = 256\n",
    "\n",
    "# inputs of the encoder network\n",
    "encoder_inputs = Input(shape=(None, num_encoder_tokens), \n",
    "                       name='encoder_inputs')\n",
    "\n",
    "# set the BSTM layer\n",
    "encoder_bilstm = Bidirectional(LSTM(latent_dim, return_state=True, \n",
    "                                  dropout=0.5, name='encoder_lstm'))\n",
    "_, forward_h, forward_c, backward_h, backward_c = encoder_bilstm(encoder_inputs)\n",
    "\n",
    "state_h = Concatenate()([forward_h, backward_h])\n",
    "state_c = Concatenate()([forward_c, backward_c])\n",
    "\n",
    "# build the encoder network model\n",
    "encoder_model = Model(inputs=encoder_inputs, \n",
    "                      outputs=[state_h, state_c],\n",
    "                      name='encoder')"
   ]
  },
  {
   "cell_type": "markdown",
   "metadata": {},
   "source": [
    "Print a summary and save the encoder network structure to \"./encoder.pdf\""
   ]
  },
  {
   "cell_type": "code",
   "execution_count": 13,
   "metadata": {},
   "outputs": [
    {
     "name": "stdout",
     "output_type": "stream",
     "text": [
      "Model: \"encoder\"\n",
      "__________________________________________________________________________________________________\n",
      "Layer (type)                    Output Shape         Param #     Connected to                     \n",
      "==================================================================================================\n",
      "encoder_inputs (InputLayer)     [(None, None, 28)]   0                                            \n",
      "__________________________________________________________________________________________________\n",
      "bidirectional (Bidirectional)   [(None, 512), (None, 583680      encoder_inputs[0][0]             \n",
      "__________________________________________________________________________________________________\n",
      "concatenate (Concatenate)       (None, 512)          0           bidirectional[0][1]              \n",
      "                                                                 bidirectional[0][3]              \n",
      "__________________________________________________________________________________________________\n",
      "concatenate_1 (Concatenate)     (None, 512)          0           bidirectional[0][2]              \n",
      "                                                                 bidirectional[0][4]              \n",
      "==================================================================================================\n",
      "Total params: 583,680\n",
      "Trainable params: 583,680\n",
      "Non-trainable params: 0\n",
      "__________________________________________________________________________________________________\n"
     ]
    }
   ],
   "source": [
    "from IPython.display import SVG\n",
    "from keras.utils.vis_utils import model_to_dot, plot_model\n",
    "\n",
    "SVG(model_to_dot(encoder_model, show_shapes=False).create(prog='dot', format='svg'))\n",
    "\n",
    "plot_model(\n",
    "    model=encoder_model, show_shapes=False,\n",
    "    to_file='encoder.pdf'\n",
    ")\n",
    "\n",
    "encoder_model.summary()"
   ]
  },
  {
   "cell_type": "markdown",
   "metadata": {},
   "source": [
    "### 3.2. Decoder network\n",
    "\n",
    "- Inputs:  \n",
    "\n",
    "    -- one-hot encode of the target language\n",
    "    \n",
    "    -- The initial hidden state $h_t$ \n",
    "    \n",
    "    -- The initial conveyor belt $c_t$ \n",
    "\n",
    "- Return: \n",
    "\n",
    "    -- output (all the hidden states) $h_1, \\cdots , h_t$\n",
    "\n",
    "    -- the final hidden state  $h_t$ (discarded in the training and used in the prediction)\n",
    "    \n",
    "    -- the final conveyor belt $c_t$ (discarded in the training and used in the prediction)"
   ]
  },
  {
   "cell_type": "code",
   "execution_count": 14,
   "metadata": {},
   "outputs": [],
   "source": [
    "from keras.layers import Input, LSTM, Dense\n",
    "from keras.models import Model\n",
    "\n",
    "latent_dim = 512  # to match input size\n",
    "\n",
    "# inputs of the decoder network\n",
    "decoder_input_h = Input(shape=(latent_dim), name='decoder_input_h')\n",
    "decoder_input_c = Input(shape=(latent_dim), name='decoder_input_c')\n",
    "decoder_input_x = Input(shape=(None, num_decoder_tokens), name='decoder_input_x')\n",
    "\n",
    "# set the LSTM layer\n",
    "decoder_lstm = LSTM(latent_dim, return_sequences=True, \n",
    "                    return_state=True, dropout=0.5, name='decoder_lstm')\n",
    "decoder_lstm_outputs, state_h, state_c = decoder_lstm(decoder_input_x, \n",
    "                                                      initial_state=[decoder_input_h, decoder_input_c])\n",
    "\n",
    "# set the dense layer\n",
    "decoder_dense = Dense(num_decoder_tokens, activation='softmax', name='decoder_dense')\n",
    "decoder_outputs = decoder_dense(decoder_lstm_outputs)\n",
    "\n",
    "# build the decoder network model\n",
    "decoder_model = Model(inputs=[decoder_input_x, decoder_input_h, decoder_input_c],\n",
    "                      outputs=[decoder_outputs, state_h, state_c],\n",
    "                      name='decoder')"
   ]
  },
  {
   "cell_type": "markdown",
   "metadata": {},
   "source": [
    "Print a summary and save the encoder network structure to \"./decoder.pdf\""
   ]
  },
  {
   "cell_type": "code",
   "execution_count": 15,
   "metadata": {},
   "outputs": [
    {
     "name": "stdout",
     "output_type": "stream",
     "text": [
      "Model: \"decoder\"\n",
      "__________________________________________________________________________________________________\n",
      "Layer (type)                    Output Shape         Param #     Connected to                     \n",
      "==================================================================================================\n",
      "decoder_input_x (InputLayer)    [(None, None, 30)]   0                                            \n",
      "__________________________________________________________________________________________________\n",
      "decoder_input_h (InputLayer)    [(None, 512)]        0                                            \n",
      "__________________________________________________________________________________________________\n",
      "decoder_input_c (InputLayer)    [(None, 512)]        0                                            \n",
      "__________________________________________________________________________________________________\n",
      "decoder_lstm (LSTM)             [(None, None, 512),  1112064     decoder_input_x[0][0]            \n",
      "                                                                 decoder_input_h[0][0]            \n",
      "                                                                 decoder_input_c[0][0]            \n",
      "__________________________________________________________________________________________________\n",
      "decoder_dense (Dense)           (None, None, 30)     15390       decoder_lstm[0][0]               \n",
      "==================================================================================================\n",
      "Total params: 1,127,454\n",
      "Trainable params: 1,127,454\n",
      "Non-trainable params: 0\n",
      "__________________________________________________________________________________________________\n"
     ]
    }
   ],
   "source": [
    "from IPython.display import SVG\n",
    "from keras.utils.vis_utils import model_to_dot, plot_model\n",
    "\n",
    "SVG(model_to_dot(decoder_model, show_shapes=False).create(prog='dot', format='svg'))\n",
    "\n",
    "plot_model(\n",
    "    model=decoder_model, show_shapes=False,\n",
    "    to_file='decoder.pdf'\n",
    ")\n",
    "\n",
    "decoder_model.summary()"
   ]
  },
  {
   "cell_type": "markdown",
   "metadata": {},
   "source": [
    "### 3.3. Connect the encoder and decoder"
   ]
  },
  {
   "cell_type": "code",
   "execution_count": 16,
   "metadata": {},
   "outputs": [],
   "source": [
    "# input layers\n",
    "encoder_input_x = Input(shape=(None, num_encoder_tokens), name='encoder_input_x')\n",
    "decoder_input_x = Input(shape=(None, num_decoder_tokens), name='decoder_input_x')\n",
    "\n",
    "# connect encoder to decoder\n",
    "encoder_final_states = encoder_model([encoder_input_x])\n",
    "decoder_lstm_output, _, _ = decoder_lstm(decoder_input_x, initial_state=encoder_final_states)\n",
    "decoder_pred = decoder_dense(decoder_lstm_output)\n",
    "\n",
    "model = Model(inputs=[encoder_input_x, decoder_input_x], \n",
    "              outputs=decoder_pred, \n",
    "              name='model_training')"
   ]
  },
  {
   "cell_type": "code",
   "execution_count": 17,
   "metadata": {},
   "outputs": [
    {
     "name": "stdout",
     "output_type": "stream",
     "text": [
      "Tensor(\"decoder_lstm/PartitionedCall:2\", shape=(None, 512), dtype=float32)\n",
      "Tensor(\"decoder_input_h:0\", shape=(None, 512), dtype=float32)\n"
     ]
    }
   ],
   "source": [
    "print(state_h)\n",
    "print(decoder_input_h)"
   ]
  },
  {
   "cell_type": "code",
   "execution_count": 18,
   "metadata": {},
   "outputs": [
    {
     "name": "stdout",
     "output_type": "stream",
     "text": [
      "Model: \"model_training\"\n",
      "__________________________________________________________________________________________________\n",
      "Layer (type)                    Output Shape         Param #     Connected to                     \n",
      "==================================================================================================\n",
      "encoder_input_x (InputLayer)    [(None, None, 28)]   0                                            \n",
      "__________________________________________________________________________________________________\n",
      "decoder_input_x (InputLayer)    [(None, None, 30)]   0                                            \n",
      "__________________________________________________________________________________________________\n",
      "encoder (Functional)            [(None, 512), (None, 583680      encoder_input_x[0][0]            \n",
      "__________________________________________________________________________________________________\n",
      "decoder_lstm (LSTM)             [(None, None, 512),  1112064     decoder_input_x[0][0]            \n",
      "                                                                 encoder[0][0]                    \n",
      "                                                                 encoder[0][1]                    \n",
      "__________________________________________________________________________________________________\n",
      "decoder_dense (Dense)           (None, None, 30)     15390       decoder_lstm[1][0]               \n",
      "==================================================================================================\n",
      "Total params: 1,711,134\n",
      "Trainable params: 1,711,134\n",
      "Non-trainable params: 0\n",
      "__________________________________________________________________________________________________\n"
     ]
    }
   ],
   "source": [
    "from IPython.display import SVG\n",
    "from keras.utils.vis_utils import model_to_dot, plot_model\n",
    "\n",
    "SVG(model_to_dot(model, show_shapes=False).create(prog='dot', format='svg'))\n",
    "\n",
    "plot_model(\n",
    "    model=model, show_shapes=False,\n",
    "    to_file='model_training.pdf'\n",
    ")\n",
    "\n",
    "model.summary()"
   ]
  },
  {
   "cell_type": "markdown",
   "metadata": {},
   "source": [
    "### 3.5. Fit the model on the bilingual dataset\n",
    "\n",
    "- encoder_input_data: one-hot encode of the input language\n",
    "\n",
    "- decoder_input_data: one-hot encode of the input language\n",
    "\n",
    "- decoder_target_data: labels (left shift of decoder_input_data)\n",
    "\n",
    "- tune the hyper-parameters\n",
    "\n",
    "- stop when the validation loss stop decreasing."
   ]
  },
  {
   "cell_type": "code",
   "execution_count": 19,
   "metadata": {},
   "outputs": [
    {
     "name": "stdout",
     "output_type": "stream",
     "text": [
      "shape of encoder_input_data(20000, 14, 28)\n",
      "shape of decoder_input_data(20000, 41, 30)\n",
      "shape of decoder_target_data(20000, 41, 30)\n"
     ]
    }
   ],
   "source": [
    "print('shape of encoder_input_data' + str(encoder_input_data.shape))\n",
    "print('shape of decoder_input_data' + str(decoder_input_data.shape))\n",
    "print('shape of decoder_target_data' + str(decoder_target_data.shape))"
   ]
  },
  {
   "cell_type": "code",
   "execution_count": 18,
   "metadata": {},
   "outputs": [
    {
     "name": "stdout",
     "output_type": "stream",
     "text": [
      "Epoch 1/50\n",
      "250/250 [==============================] - 149s 597ms/step - loss: 1.1245 - val_loss: 0.9670\n",
      "Epoch 2/50\n",
      "250/250 [==============================] - 137s 549ms/step - loss: 0.8623 - val_loss: 0.8481\n",
      "Epoch 3/50\n",
      "250/250 [==============================] - 128s 513ms/step - loss: 0.7982 - val_loss: 0.7751\n",
      "Epoch 4/50\n",
      "250/250 [==============================] - 127s 510ms/step - loss: 0.7565 - val_loss: 0.7218\n",
      "Epoch 5/50\n",
      "250/250 [==============================] - 124s 495ms/step - loss: 0.7210 - val_loss: 0.6942\n",
      "Epoch 6/50\n",
      "250/250 [==============================] - 137s 548ms/step - loss: 0.6939 - val_loss: 0.6652\n",
      "Epoch 7/50\n",
      "250/250 [==============================] - 143s 570ms/step - loss: 0.6706 - val_loss: 0.6420\n",
      "Epoch 8/50\n",
      "250/250 [==============================] - 140s 558ms/step - loss: 0.6500 - val_loss: 0.6258\n",
      "Epoch 9/50\n",
      "250/250 [==============================] - 139s 555ms/step - loss: 0.6318 - val_loss: 0.6165\n",
      "Epoch 10/50\n",
      "250/250 [==============================] - 134s 538ms/step - loss: 0.6174 - val_loss: 0.6062\n",
      "Epoch 11/50\n",
      "250/250 [==============================] - 138s 553ms/step - loss: 0.6005 - val_loss: 0.5950\n",
      "Epoch 12/50\n",
      "250/250 [==============================] - 131s 524ms/step - loss: 0.5869 - val_loss: 0.5979\n",
      "Epoch 13/50\n",
      "250/250 [==============================] - 132s 528ms/step - loss: 0.5721 - val_loss: 0.5823\n",
      "Epoch 14/50\n",
      "250/250 [==============================] - 134s 538ms/step - loss: 0.5608 - val_loss: 0.5742\n",
      "Epoch 15/50\n",
      "250/250 [==============================] - 146s 585ms/step - loss: 0.5510 - val_loss: 0.5721\n",
      "Epoch 16/50\n",
      "250/250 [==============================] - 143s 573ms/step - loss: 0.5415 - val_loss: 0.5630\n",
      "Epoch 17/50\n",
      "250/250 [==============================] - 133s 530ms/step - loss: 0.5321 - val_loss: 0.5635\n",
      "Epoch 18/50\n",
      "250/250 [==============================] - 134s 536ms/step - loss: 0.5201 - val_loss: 0.5629\n",
      "Epoch 19/50\n",
      "250/250 [==============================] - 135s 540ms/step - loss: 0.5122 - val_loss: 0.5609\n",
      "Epoch 20/50\n",
      "250/250 [==============================] - 156s 622ms/step - loss: 0.5047 - val_loss: 0.5588\n",
      "Epoch 21/50\n",
      "250/250 [==============================] - 142s 568ms/step - loss: 0.4972 - val_loss: 0.5587\n",
      "Epoch 22/50\n",
      "250/250 [==============================] - 123s 491ms/step - loss: 0.4888 - val_loss: 0.5500\n",
      "Epoch 23/50\n",
      "250/250 [==============================] - 118s 471ms/step - loss: 0.4828 - val_loss: 0.5528\n",
      "Epoch 24/50\n",
      "250/250 [==============================] - 119s 476ms/step - loss: 0.4757 - val_loss: 0.5545\n",
      "Epoch 25/50\n",
      "250/250 [==============================] - 131s 525ms/step - loss: 0.4697 - val_loss: 0.5500\n",
      "Epoch 26/50\n",
      "250/250 [==============================] - 122s 488ms/step - loss: 0.4603 - val_loss: 0.5505\n",
      "Epoch 27/50\n",
      "250/250 [==============================] - 127s 509ms/step - loss: 0.4564 - val_loss: 0.5528\n",
      "Epoch 28/50\n",
      "250/250 [==============================] - 124s 494ms/step - loss: 0.4497 - val_loss: 0.5519\n",
      "Epoch 29/50\n",
      "250/250 [==============================] - 133s 530ms/step - loss: 0.4439 - val_loss: 0.5488\n",
      "Epoch 30/50\n",
      "250/250 [==============================] - 123s 492ms/step - loss: 0.4401 - val_loss: 0.5469\n",
      "Epoch 31/50\n",
      "250/250 [==============================] - 128s 512ms/step - loss: 0.4369 - val_loss: 0.5514\n",
      "Epoch 32/50\n",
      "250/250 [==============================] - 123s 492ms/step - loss: 0.4280 - val_loss: 0.5443\n",
      "Epoch 33/50\n",
      "250/250 [==============================] - 116s 465ms/step - loss: 0.4244 - val_loss: 0.5531\n",
      "Epoch 34/50\n",
      "250/250 [==============================] - 121s 483ms/step - loss: 0.4187 - val_loss: 0.5515\n",
      "Epoch 35/50\n",
      "250/250 [==============================] - 129s 517ms/step - loss: 0.4145 - val_loss: 0.5554\n",
      "Epoch 36/50\n",
      "250/250 [==============================] - 129s 515ms/step - loss: 0.4109 - val_loss: 0.5561\n",
      "Epoch 37/50\n",
      "250/250 [==============================] - 135s 540ms/step - loss: 0.4060 - val_loss: 0.5589\n",
      "Epoch 38/50\n",
      "250/250 [==============================] - 128s 514ms/step - loss: 0.4036 - val_loss: 0.5589\n",
      "Epoch 39/50\n",
      "250/250 [==============================] - 121s 486ms/step - loss: 0.3998 - val_loss: 0.5590\n",
      "Epoch 40/50\n",
      "250/250 [==============================] - 114s 458ms/step - loss: 0.3959 - val_loss: 0.5607\n",
      "Epoch 41/50\n",
      "250/250 [==============================] - 119s 476ms/step - loss: 0.3899 - val_loss: 0.5563\n",
      "Epoch 42/50\n",
      "250/250 [==============================] - 117s 470ms/step - loss: 0.3895 - val_loss: 0.5569\n",
      "Epoch 43/50\n",
      "250/250 [==============================] - 124s 495ms/step - loss: 0.3847 - val_loss: 0.5642\n",
      "Epoch 44/50\n",
      "250/250 [==============================] - 114s 454ms/step - loss: 0.3799 - val_loss: 0.5640\n",
      "Epoch 45/50\n",
      "250/250 [==============================] - 120s 481ms/step - loss: 0.3780 - val_loss: 0.5688\n",
      "Epoch 46/50\n",
      "250/250 [==============================] - 124s 498ms/step - loss: 0.3736 - val_loss: 0.5675\n",
      "Epoch 47/50\n",
      "250/250 [==============================] - 114s 457ms/step - loss: 0.3709 - val_loss: 0.5622\n",
      "Epoch 48/50\n",
      "250/250 [==============================] - 109s 435ms/step - loss: 0.3661 - val_loss: 0.5696\n",
      "Epoch 49/50\n",
      "250/250 [==============================] - 108s 433ms/step - loss: 0.3660 - val_loss: 0.5701\n",
      "Epoch 50/50\n",
      "250/250 [==============================] - 109s 437ms/step - loss: 0.3628 - val_loss: 0.5630\n"
     ]
    }
   ],
   "source": [
    "model.compile(optimizer='rmsprop', loss='categorical_crossentropy')\n",
    "\n",
    "model.fit([encoder_input_data, decoder_input_data],  # training data\n",
    "          decoder_target_data,                       # labels (left shift of the target sequences)\n",
    "          batch_size=64, epochs=50, validation_split=0.2)\n",
    "\n",
    "model.save('seq2seq.h5')"
   ]
  },
  {
   "cell_type": "markdown",
   "metadata": {},
   "source": [
    "When I ran this, the validation loss plateaued around 23 epochs. Therefore, to avoid overfitting, I am only to limit the number of epochs to 23"
   ]
  },
  {
   "cell_type": "code",
   "execution_count": 20,
   "metadata": {},
   "outputs": [
    {
     "name": "stdout",
     "output_type": "stream",
     "text": [
      "Epoch 1/23\n",
      "250/250 [==============================] - 115s 458ms/step - loss: 1.1135 - val_loss: 0.9613\n",
      "Epoch 2/23\n",
      "250/250 [==============================] - 127s 507ms/step - loss: 0.8600 - val_loss: 0.8451\n",
      "Epoch 3/23\n",
      "250/250 [==============================] - 120s 481ms/step - loss: 0.7966 - val_loss: 0.7770\n",
      "Epoch 4/23\n",
      "250/250 [==============================] - 111s 443ms/step - loss: 0.7540 - val_loss: 0.7182\n",
      "Epoch 5/23\n",
      "250/250 [==============================] - 114s 455ms/step - loss: 0.7195 - val_loss: 0.6878\n",
      "Epoch 6/23\n",
      "250/250 [==============================] - 114s 454ms/step - loss: 0.6908 - val_loss: 0.6580\n",
      "Epoch 7/23\n",
      "250/250 [==============================] - 119s 476ms/step - loss: 0.6672 - val_loss: 0.6437\n",
      "Epoch 8/23\n",
      "250/250 [==============================] - 121s 482ms/step - loss: 0.6470 - val_loss: 0.6224\n",
      "Epoch 9/23\n",
      "250/250 [==============================] - 115s 461ms/step - loss: 0.6304 - val_loss: 0.6123\n",
      "Epoch 10/23\n",
      "250/250 [==============================] - 116s 466ms/step - loss: 0.6118 - val_loss: 0.6054\n",
      "Epoch 11/23\n",
      "250/250 [==============================] - 130s 518ms/step - loss: 0.5959 - val_loss: 0.5998\n",
      "Epoch 12/23\n",
      "250/250 [==============================] - 114s 458ms/step - loss: 0.5841 - val_loss: 0.5844\n",
      "Epoch 13/23\n",
      "250/250 [==============================] - 113s 450ms/step - loss: 0.5707 - val_loss: 0.5804\n",
      "Epoch 14/23\n",
      "250/250 [==============================] - 113s 450ms/step - loss: 0.5590 - val_loss: 0.5748\n",
      "Epoch 15/23\n",
      "250/250 [==============================] - 113s 453ms/step - loss: 0.5472 - val_loss: 0.5755\n",
      "Epoch 16/23\n",
      "250/250 [==============================] - 112s 450ms/step - loss: 0.5361 - val_loss: 0.5667\n",
      "Epoch 17/23\n",
      "250/250 [==============================] - 113s 454ms/step - loss: 0.5250 - val_loss: 0.5666\n",
      "Epoch 18/23\n",
      "250/250 [==============================] - 114s 456ms/step - loss: 0.5195 - val_loss: 0.5603\n",
      "Epoch 19/23\n",
      "250/250 [==============================] - 113s 450ms/step - loss: 0.5086 - val_loss: 0.5616\n",
      "Epoch 20/23\n",
      "250/250 [==============================] - 113s 451ms/step - loss: 0.5005 - val_loss: 0.5575\n",
      "Epoch 21/23\n",
      "250/250 [==============================] - 112s 448ms/step - loss: 0.4912 - val_loss: 0.5518\n",
      "Epoch 22/23\n",
      "250/250 [==============================] - 113s 452ms/step - loss: 0.4834 - val_loss: 0.5553\n",
      "Epoch 23/23\n",
      "250/250 [==============================] - 113s 452ms/step - loss: 0.4747 - val_loss: 0.5508\n"
     ]
    }
   ],
   "source": [
    "model.compile(optimizer='rmsprop', loss='categorical_crossentropy')\n",
    "\n",
    "model.fit([encoder_input_data, decoder_input_data],  # training data\n",
    "          decoder_target_data,                       # labels (left shift of the target sequences)\n",
    "          batch_size=64, epochs=23, validation_split=0.2)\n",
    "\n",
    "model.save('seq2seq.h5')"
   ]
  },
  {
   "cell_type": "markdown",
   "metadata": {},
   "source": [
    "## 4. Make predictions\n",
    "\n",
    "\n",
    "### 4.1. Translate English to XXX\n",
    "\n",
    "1. Encoder read a sentence (source language) and output its final states, $h_t$ and $c_t$.\n",
    "2. Take the [star] sign \"\\t\" and the final state $h_t$ and $c_t$ as input and run the decoder.\n",
    "3. Get the new states and predicted probability distribution.\n",
    "4. sample a char from the predicted probability distribution\n",
    "5. take the sampled char and the new states as input and repeat the process (stop if reach the [stop] sign \"\\n\")."
   ]
  },
  {
   "cell_type": "code",
   "execution_count": 21,
   "metadata": {},
   "outputs": [],
   "source": [
    "# Reverse-lookup token index to decode sequences back to something readable.\n",
    "reverse_input_char_index = dict((i, char) for char, i in input_token_index.items())\n",
    "reverse_target_char_index = dict((i, char) for char, i in target_token_index.items())"
   ]
  },
  {
   "cell_type": "code",
   "execution_count": 22,
   "metadata": {},
   "outputs": [],
   "source": [
    "def decode_sequence(input_seq):\n",
    "    states_value = encoder_model.predict(input_seq)\n",
    "\n",
    "    target_seq = numpy.zeros((1, 1, num_decoder_tokens))\n",
    "    target_seq[0, 0, target_token_index['\\t']] = 1.\n",
    "\n",
    "    stop_condition = False\n",
    "    decoded_sentence = ''\n",
    "    while not stop_condition:\n",
    "        output_tokens, h, c = decoder_model.predict([target_seq] + states_value)\n",
    "\n",
    "        # this line of code is greedy selection\n",
    "        # try to use multinomial sampling instead (with temperature)\n",
    "        sampled_token_index = numpy.argmax(output_tokens[0, -1, :])\n",
    "        \n",
    "        sampled_char = reverse_target_char_index[sampled_token_index]\n",
    "        decoded_sentence += sampled_char\n",
    "\n",
    "        if (sampled_char == '\\n' or\n",
    "           len(decoded_sentence) > max_decoder_seq_length):\n",
    "            stop_condition = True\n",
    "\n",
    "        target_seq = numpy.zeros((1, 1, num_decoder_tokens))\n",
    "        target_seq[0, 0, sampled_token_index] = 1.\n",
    "\n",
    "        states_value = [h, c]\n",
    "\n",
    "    return decoded_sentence\n"
   ]
  },
  {
   "cell_type": "code",
   "execution_count": 23,
   "metadata": {},
   "outputs": [
    {
     "name": "stdout",
     "output_type": "stream",
     "text": [
      "-\n",
      "English:        stay calm\n",
      "Italian (true):  stia calma\n",
      "Italian (pred):  stai calmo\n",
      "-\n",
      "English:        stay calm\n",
      "Italian (true):  state calmi\n",
      "Italian (pred):  stai calmo\n",
      "-\n",
      "English:        stay calm\n",
      "Italian (true):  state calme\n",
      "Italian (pred):  stai calmo\n",
      "-\n",
      "English:        stay cool\n",
      "Italian (true):  mantieni la calma\n",
      "Italian (pred):  stai calmo\n",
      "-\n",
      "English:        stay cool\n",
      "Italian (true):  mantenete la calma\n",
      "Italian (pred):  stai calmo\n",
      "-\n",
      "English:        stay down\n",
      "Italian (true):  stai giu\n",
      "Italian (pred):  stai  intora\n",
      "-\n",
      "English:        stay down\n",
      "Italian (true):  state giu\n",
      "Italian (pred):  stai  intora\n",
      "-\n",
      "English:        stay down\n",
      "Italian (true):  stia giu\n",
      "Italian (pred):  stai  intora\n",
      "-\n",
      "English:        stay here\n",
      "Italian (true):  stai qui\n",
      "Italian (pred):  state li\n",
      "-\n",
      "English:        stay here\n",
      "Italian (true):  state qui\n",
      "Italian (pred):  state li\n",
      "-\n",
      "English:        stay here\n",
      "Italian (true):  stia qui\n",
      "Italian (pred):  state li\n",
      "-\n",
      "English:        stay home\n",
      "Italian (true):  state a casa\n",
      "Italian (pred):  state con me\n",
      "-\n",
      "English:        step back\n",
      "Italian (true):  fai un passo indietro\n",
      "Italian (pred):  state calmo\n",
      "-\n",
      "English:        step back\n",
      "Italian (true):  fate un passo indietro\n",
      "Italian (pred):  state calmo\n",
      "-\n",
      "English:        step back\n",
      "Italian (true):  faccia un passo indietro\n",
      "Italian (pred):  state calmo\n",
      "-\n",
      "English:        stop here\n",
      "Italian (true):  fermati qui\n",
      "Italian (pred):  fermatevi\n",
      "-\n",
      "English:        stop here\n",
      "Italian (true):  si fermi qui\n",
      "Italian (pred):  fermatevi\n",
      "-\n",
      "English:        stop here\n",
      "Italian (true):  fermatevi qui\n",
      "Italian (pred):  fermatevi\n",
      "-\n",
      "English:        stop here\n",
      "Italian (true):  fermati qua\n",
      "Italian (pred):  fermatevi\n",
      "-\n",
      "English:        stop here\n",
      "Italian (true):  si fermi qua\n",
      "Italian (pred):  fermatevi\n"
     ]
    }
   ],
   "source": [
    "for seq_index in range(2100, 2120):\n",
    "    # Take one sequence (part of the training set)\n",
    "    # for trying out decoding.\n",
    "    input_seq = encoder_input_data[seq_index: seq_index + 1]\n",
    "    decoded_sentence = decode_sequence(input_seq)\n",
    "    print('-')\n",
    "    print('English:       ', input_texts[seq_index])\n",
    "    print('Italian (true): ', target_texts[seq_index][1:-1])\n",
    "    print('Italian (pred): ', decoded_sentence[0:-1])\n"
   ]
  },
  {
   "cell_type": "markdown",
   "metadata": {},
   "source": [
    "Below is code using multinomial sampling. The code was taken from: https://medium.com/deep-learning-with-keras/sampling-in-text-generation-b2f4825e1dad"
   ]
  },
  {
   "cell_type": "code",
   "execution_count": 29,
   "metadata": {},
   "outputs": [],
   "source": [
    "def decode_sequence_2(input_seq):\n",
    "    states_value = encoder_model.predict(input_seq)\n",
    "\n",
    "    target_seq = numpy.zeros((1, 1, num_decoder_tokens))\n",
    "    target_seq[0, 0, target_token_index['\\t']] = 1.\n",
    "\n",
    "    stop_condition = False\n",
    "    decoded_sentence = ''\n",
    "    while not stop_condition:\n",
    "        output_tokens, h, c = decoder_model.predict([target_seq] + states_value)\n",
    "\n",
    "        # this line of code is multinomial sampling instead (with temperature)\n",
    "       \n",
    "        temperature=0.7  # temperature value\n",
    "        conditional_probability = numpy.asarray(output_tokens[0, -1, :]).astype(\"float64\")\n",
    "        conditional_probability = numpy.log(conditional_probability) / temperature  #reweighing the distribution\n",
    "        exp_preds = numpy.exp(conditional_probability)\n",
    "        conditional_probability = exp_preds / numpy.sum(exp_preds)  #softmax function\n",
    "        probas = numpy.random.multinomial(1, conditional_probability, 1)  #select next character at random based on dist.\n",
    "        sampled_token_index = numpy.argmax(probas)\n",
    "        \n",
    "        sampled_char = reverse_target_char_index[sampled_token_index]\n",
    "        decoded_sentence += sampled_char\n",
    "\n",
    "        if (sampled_char == '\\n' or\n",
    "           len(decoded_sentence) > max_decoder_seq_length):\n",
    "            stop_condition = True\n",
    "\n",
    "        target_seq = numpy.zeros((1, 1, num_decoder_tokens))\n",
    "        target_seq[0, 0, sampled_token_index] = 1.\n",
    "\n",
    "        states_value = [h, c]\n",
    "\n",
    "    return decoded_sentence"
   ]
  },
  {
   "cell_type": "code",
   "execution_count": 30,
   "metadata": {},
   "outputs": [
    {
     "name": "stdout",
     "output_type": "stream",
     "text": [
      "-\n",
      "English:        stay calm\n",
      "Italian (true):  stia calma\n",
      "Italian (pred):  state calmo\n",
      "-\n",
      "English:        stay calm\n",
      "Italian (true):  state calmi\n",
      "Italian (pred):  state chia\n",
      "-\n",
      "English:        stay calm\n",
      "Italian (true):  state calme\n",
      "Italian (pred):  stai lenta\n",
      "-\n",
      "English:        stay cool\n",
      "Italian (true):  mantieni la calma\n",
      "Italian (pred):  stai londana\n",
      "-\n",
      "English:        stay cool\n",
      "Italian (true):  mantenete la calma\n",
      "Italian (pred):  stai vndero\n",
      "-\n",
      "English:        stay down\n",
      "Italian (true):  stai giu\n",
      "Italian (pred):  state indiata\n",
      "-\n",
      "English:        stay down\n",
      "Italian (true):  state giu\n",
      "Italian (pred):  state soli\n",
      "-\n",
      "English:        stay down\n",
      "Italian (true):  stia giu\n",
      "Italian (pred):  stai  intonta\n",
      "-\n",
      "English:        stay here\n",
      "Italian (true):  stai qui\n",
      "Italian (pred):  stia qui\n",
      "-\n",
      "English:        stay here\n",
      "Italian (true):  state qui\n",
      "Italian (pred):  stite li\n",
      "-\n",
      "English:        stay here\n",
      "Italian (true):  stia qui\n",
      "Italian (pred):  stia lo\n",
      "-\n",
      "English:        stay home\n",
      "Italian (true):  state a casa\n",
      "Italian (pred):  stia cadiota\n",
      "-\n",
      "English:        step back\n",
      "Italian (true):  fai un passo indietro\n",
      "Italian (pred):  faami lauta en ebrecca\n",
      "-\n",
      "English:        step back\n",
      "Italian (true):  fate un passo indietro\n",
      "Italian (pred):  smite calmo\n",
      "-\n",
      "English:        step back\n",
      "Italian (true):  faccia un passo indietro\n",
      "Italian (pred):  state cilmentrate\n",
      "-\n",
      "English:        stop here\n",
      "Italian (true):  fermati qui\n",
      "Italian (pred):  fermatevi qui\n",
      "-\n",
      "English:        stop here\n",
      "Italian (true):  si fermi qui\n",
      "Italian (pred):  ferma li\n",
      "-\n",
      "English:        stop here\n",
      "Italian (true):  fermatevi qui\n",
      "Italian (pred):  fermatevi\n",
      "-\n",
      "English:        stop here\n",
      "Italian (true):  fermati qua\n",
      "Italian (pred):  fermatevi\n",
      "-\n",
      "English:        stop here\n",
      "Italian (true):  si fermi qua\n",
      "Italian (pred):  sermate li\n"
     ]
    }
   ],
   "source": [
    "for seq_index in range(2100, 2120):\n",
    "    # Take one sequence (part of the training set)\n",
    "    # for trying out decoding.\n",
    "    input_seq = encoder_input_data[seq_index: seq_index + 1]\n",
    "    decoded_sentence = decode_sequence_2(input_seq)\n",
    "    print('-')\n",
    "    print('English:       ', input_texts[seq_index])\n",
    "    print('Italian (true): ', target_texts[seq_index][1:-1])\n",
    "    print('Italian (pred): ', decoded_sentence[0:-1])"
   ]
  },
  {
   "cell_type": "markdown",
   "metadata": {},
   "source": [
    "### 4.2. Translate an English sentence to the target language\n",
    "\n",
    "1. Tokenization\n",
    "2. One-hot encode\n",
    "3. Translate"
   ]
  },
  {
   "cell_type": "code",
   "execution_count": 24,
   "metadata": {},
   "outputs": [
    {
     "name": "stdout",
     "output_type": "stream",
     "text": [
      "source sentence is: I love you\n",
      "translated sentence is: so\n",
      "\n"
     ]
    }
   ],
   "source": [
    "from keras.preprocessing.text import Tokenizer\n",
    "from keras.preprocessing.sequence import pad_sequences\n",
    "\n",
    "input_sentence = 'I love you'\n",
    "\n",
    "tokenizer = Tokenizer(char_level=True, filters='')   #tokenization taken from part 2.1\n",
    "seqs = tokenizer.texts_to_sequences(input_sentence)\n",
    "seq = numpy.array(seqs)\n",
    "input_sequence = pad_sequences(seq, maxlen=1, padding='post')  \n",
    "\n",
    "sent_leng = max(len(line) for line in input_sentence)   #one-hot encode\n",
    "input_x = onehot_encode(input_sequence, sent_leng, 28)   \n",
    "input_x_re= numpy.reshape(input_x, (1, 10, 28))         #reshape for translation \n",
    "\n",
    "translated_sentence = decode_sequence(input_x_re)     # translation \n",
    "\n",
    "print('source sentence is: ' + input_sentence)\n",
    "print('translated sentence is: ' + translated_sentence)"
   ]
  },
  {
   "cell_type": "markdown",
   "metadata": {},
   "source": [
    "I repeated the translation with the multinomial sampling to show the difference between the different sampling techniques. The answer is still incorrect. "
   ]
  },
  {
   "cell_type": "code",
   "execution_count": 31,
   "metadata": {},
   "outputs": [
    {
     "name": "stdout",
     "output_type": "stream",
     "text": [
      "source sentence is: I love you\n",
      "translated sentence is: cordi\n",
      "\n"
     ]
    }
   ],
   "source": [
    "from keras.preprocessing.text import Tokenizer\n",
    "from keras.preprocessing.sequence import pad_sequences\n",
    "\n",
    "input_sentence = 'I love you'\n",
    "\n",
    "tokenizer = Tokenizer(char_level=True, filters='')   #tokenization taken from part 2.1\n",
    "seqs = tokenizer.texts_to_sequences(input_sentence)\n",
    "seq = numpy.array(seqs)\n",
    "input_sequence = pad_sequences(seq, maxlen=1, padding='post')  \n",
    "\n",
    "sent_leng = max(len(line) for line in input_sentence)   #one-hot encode\n",
    "input_x = onehot_encode(input_sequence, sent_leng, 28)   \n",
    "input_x_re= numpy.reshape(input_x, (1, 10, 28))         #reshape for translation \n",
    "\n",
    "translated_sentence = decode_sequence_2(input_x_re)     # translation \n",
    "\n",
    "print('source sentence is: ' + input_sentence)\n",
    "print('translated sentence is: ' + translated_sentence)"
   ]
  },
  {
   "cell_type": "markdown",
   "metadata": {},
   "source": [
    "## 5. Evaluate the translation using BLEU score\n",
    "\n",
    "Reference: \n",
    "- https://machinelearningmastery.com/calculate-bleu-score-for-text-python/\n",
    "- https://en.wikipedia.org/wiki/BLEU\n",
    "\n",
    "\n",
    "**Hint:** \n",
    "\n",
    "- Randomly partition the dataset to training, validation, and test. \n",
    "\n",
    "- Evaluate the BLEU score using the test set. Report the average.\n",
    "\n",
    "- A reasonable BLEU score should be 0.1 ~ 0.5."
   ]
  },
  {
   "cell_type": "code",
   "execution_count": null,
   "metadata": {},
   "outputs": [],
   "source": []
  }
 ],
 "metadata": {
  "kernelspec": {
   "display_name": "Python 3",
   "language": "python",
   "name": "python3"
  },
  "language_info": {
   "codemirror_mode": {
    "name": "ipython",
    "version": 3
   },
   "file_extension": ".py",
   "mimetype": "text/x-python",
   "name": "python",
   "nbconvert_exporter": "python",
   "pygments_lexer": "ipython3",
   "version": "3.8.5"
  }
 },
 "nbformat": 4,
 "nbformat_minor": 2
}
