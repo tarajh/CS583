{
 "cells": [
  {
   "cell_type": "markdown",
   "metadata": {},
   "source": [
    "# HM2: Numerical Optimization for Logistic Regression.\n",
    "\n",
    "### Name: Tara Lozy\n"
   ]
  },
  {
   "cell_type": "markdown",
   "metadata": {},
   "source": [
    "## 0. You will do the following:\n",
    "\n",
    "1. Read the lecture note: [click here](https://github.com/wangshusen/DeepLearning/blob/master/LectureNotes/Logistic/paper/logistic.pdf)\n",
    "\n",
    "2. Read, complete, and run my code.\n",
    "\n",
    "3. **Implement mini-batch SGD** and evaluate the performance.\n",
    "\n",
    "4. Convert the .IPYNB file to .HTML file.\n",
    "\n",
    "    * The HTML file must contain **the code** and **the output after execution**.\n",
    "    \n",
    "    * Missing **the output after execution** will not be graded.\n",
    "    \n",
    "5. Upload this .HTML file to your Google Drive, Dropbox, or your Github repo.  (If you submit the file to Google Drive or Dropbox, you must make the file \"open-access\". The delay caused by \"deny of access\" may result in late penalty.)\n",
    "\n",
    "6. Submit the link to this .HTML file to Canvas.\n",
    "\n",
    "    * Example: https://github.com/wangshusen/CS583-2020S/blob/master/homework/HM2/HM2.html\n",
    "\n",
    "\n",
    "## Grading criteria:\n",
    "\n",
    "1. When computing the ```gradient``` and ```objective function value``` using a batch of samples, use **matrix-vector multiplication** rather than a FOR LOOP of **vector-vector multiplications**.\n",
    "\n",
    "2. Plot ```objective function value``` against ```epochs```. In the plot, compare GD, SGD, and MB-SGD (with $b=8$ and $b=64$). The plot must look reasonable."
   ]
  },
  {
   "cell_type": "code",
   "execution_count": null,
   "metadata": {},
   "outputs": [],
   "source": []
  },
  {
   "cell_type": "markdown",
   "metadata": {},
   "source": [
    "# 1. Data processing\n",
    "\n",
    "- Download the Diabete dataset from https://www.csie.ntu.edu.tw/~cjlin/libsvmtools/datasets/binary/diabetes\n",
    "- Load the data using sklearn.\n",
    "- Preprocess the data."
   ]
  },
  {
   "cell_type": "markdown",
   "metadata": {},
   "source": [
    "## 1.1. Load the data"
   ]
  },
  {
   "cell_type": "code",
   "execution_count": 3,
   "metadata": {},
   "outputs": [
    {
     "name": "stdout",
     "output_type": "stream",
     "text": [
      "Shape of x: (768, 8)\n",
      "Shape of y: (768,)\n"
     ]
    }
   ],
   "source": [
    "from sklearn import datasets\n",
    "import numpy\n",
    "\n",
    "x_sparse, y = datasets.load_svmlight_file('diabetes')\n",
    "x = x_sparse.todense()\n",
    "\n",
    "print('Shape of x: ' + str(x.shape))\n",
    "print('Shape of y: ' + str(y.shape))"
   ]
  },
  {
   "cell_type": "markdown",
   "metadata": {},
   "source": [
    "## 1.2. Partition to training and test sets"
   ]
  },
  {
   "cell_type": "code",
   "execution_count": 4,
   "metadata": {},
   "outputs": [
    {
     "name": "stdout",
     "output_type": "stream",
     "text": [
      "Shape of x_train: (640, 8)\n",
      "Shape of x_test: (128, 8)\n",
      "Shape of y_train: (640, 1)\n",
      "Shape of y_test: (128, 1)\n"
     ]
    }
   ],
   "source": [
    "# partition the data to training and test sets\n",
    "n = x.shape[0]\n",
    "n_train = 640\n",
    "n_test = n - n_train\n",
    "\n",
    "rand_indices = numpy.random.permutation(n)\n",
    "train_indices = rand_indices[0:n_train]\n",
    "test_indices = rand_indices[n_train:n]\n",
    "\n",
    "x_train = x[train_indices, :]\n",
    "x_test = x[test_indices, :]\n",
    "y_train = y[train_indices].reshape(n_train, 1)\n",
    "y_test = y[test_indices].reshape(n_test, 1)\n",
    "\n",
    "print('Shape of x_train: ' + str(x_train.shape))\n",
    "print('Shape of x_test: ' + str(x_test.shape))\n",
    "print('Shape of y_train: ' + str(y_train.shape))\n",
    "print('Shape of y_test: ' + str(y_test.shape))"
   ]
  },
  {
   "cell_type": "markdown",
   "metadata": {},
   "source": [
    "## 1.3. Feature scaling"
   ]
  },
  {
   "cell_type": "markdown",
   "metadata": {},
   "source": [
    "Use the standardization to trainsform both training and test features"
   ]
  },
  {
   "cell_type": "code",
   "execution_count": 5,
   "metadata": {},
   "outputs": [
    {
     "name": "stdout",
     "output_type": "stream",
     "text": [
      "test mean = \n",
      "[[-0.05543138 -0.11798317 -0.01215357  0.24427312  0.10659403  0.03222312\n",
      "  -0.06535282 -0.13555664]]\n",
      "test std = \n",
      "[[0.91969614 1.148039   0.89558672 0.93047038 1.0218166  0.91597875\n",
      "  1.06994743 0.88607626]]\n"
     ]
    }
   ],
   "source": [
    "# Standardization\n",
    "import numpy\n",
    "\n",
    "# calculate mu and sig using the training set\n",
    "d = x_train.shape[1]\n",
    "mu = numpy.mean(x_train, axis=0).reshape(1, d)\n",
    "sig = numpy.std(x_train, axis=0).reshape(1, d)\n",
    "\n",
    "# transform the training features\n",
    "x_train = (x_train - mu) / (sig + 1E-6)\n",
    "\n",
    "# transform the test features\n",
    "x_test = (x_test - mu) / (sig + 1E-6)\n",
    "\n",
    "print('test mean = ')\n",
    "print(numpy.mean(x_test, axis=0))\n",
    "\n",
    "print('test std = ')\n",
    "print(numpy.std(x_test, axis=0))"
   ]
  },
  {
   "cell_type": "markdown",
   "metadata": {},
   "source": [
    "## 1.4. Add a dimension of all ones"
   ]
  },
  {
   "cell_type": "code",
   "execution_count": 6,
   "metadata": {},
   "outputs": [
    {
     "name": "stdout",
     "output_type": "stream",
     "text": [
      "Shape of x_train: (640, 9)\n",
      "Shape of x_test: (128, 9)\n"
     ]
    }
   ],
   "source": [
    "n_train, d = x_train.shape\n",
    "x_train = numpy.concatenate((x_train, numpy.ones((n_train, 1))), axis=1)\n",
    "\n",
    "n_test, d = x_test.shape\n",
    "x_test = numpy.concatenate((x_test, numpy.ones((n_test, 1))), axis=1)\n",
    "\n",
    "print('Shape of x_train: ' + str(x_train.shape))\n",
    "print('Shape of x_test: ' + str(x_test.shape))"
   ]
  },
  {
   "cell_type": "markdown",
   "metadata": {},
   "source": [
    "# 2. Logistic regression model\n",
    "\n",
    "The objective function is $Q (w; X, y) = \\frac{1}{n} \\sum_{i=1}^n \\log \\Big( 1 + \\exp \\big( - y_i x_i^T w \\big) \\Big) + \\frac{\\lambda}{2} \\| w \\|_2^2 $."
   ]
  },
  {
   "cell_type": "code",
   "execution_count": 7,
   "metadata": {},
   "outputs": [],
   "source": [
    "# Calculate the objective function value\n",
    "# Inputs:\n",
    "#     w: d-by-1 matrix\n",
    "#     x: n-by-d matrix\n",
    "#     y: n-by-1 matrix\n",
    "#     lam: scalar, the regularization parameter\n",
    "# Return:\n",
    "#     objective function value (scalar)\n",
    "def objective(w, x, y, lam):\n",
    "    n, d = x.shape\n",
    "    yx = numpy.multiply(y, x) # n-by-d matrix\n",
    "    yxw = numpy.dot(yx, w) # n-by-1 matrix\n",
    "    vec1 = numpy.exp(-yxw) # n-by-1 matrix\n",
    "    vec2 = numpy.log(1 + vec1) # n-by-1 matrix\n",
    "    loss = numpy.mean(vec2) # scalar\n",
    "    reg = lam / 2 * numpy.sum(w * w) # scalar\n",
    "    return loss + reg\n",
    "    "
   ]
  },
  {
   "cell_type": "code",
   "execution_count": 8,
   "metadata": {},
   "outputs": [
    {
     "name": "stdout",
     "output_type": "stream",
     "text": [
      "Initial objective function value = 0.6931471805599453\n"
     ]
    }
   ],
   "source": [
    "# initialize w\n",
    "d = x_train.shape[1]\n",
    "w = numpy.zeros((d, 1))\n",
    "\n",
    "# evaluate the objective function value at w\n",
    "lam = 1E-6\n",
    "objval0 = objective(w, x_train, y_train, lam)\n",
    "print('Initial objective function value = ' + str(objval0))"
   ]
  },
  {
   "cell_type": "markdown",
   "metadata": {},
   "source": [
    "# 3. Numerical optimization"
   ]
  },
  {
   "cell_type": "markdown",
   "metadata": {},
   "source": [
    "## 3.1. Gradient descent\n"
   ]
  },
  {
   "cell_type": "markdown",
   "metadata": {},
   "source": [
    "The gradient at $w$ is $g = - \\frac{1}{n} \\sum_{i=1}^n \\frac{y_i x_i }{1 + \\exp ( y_i x_i^T w)} + \\lambda w$"
   ]
  },
  {
   "cell_type": "code",
   "execution_count": 9,
   "metadata": {},
   "outputs": [],
   "source": [
    "# Calculate the gradient\n",
    "# Inputs:\n",
    "#     w: d-by-1 matrix\n",
    "#     x: n-by-d matrix\n",
    "#     y: n-by-1 matrix\n",
    "#     lam: scalar, the regularization parameter\n",
    "# Return:\n",
    "#     g: g: d-by-1 matrix, full gradient\n",
    "def gradient(w, x, y, lam):\n",
    "    n, d = x.shape\n",
    "    yx = numpy.multiply(y, x) # n-by-d matrix\n",
    "    yxw = numpy.dot(yx, w) # n-by-1 matrix\n",
    "    vec1 = numpy.exp(yxw) # n-by-1 matrix\n",
    "    vec2 = numpy.divide(yx, 1+vec1) # n-by-d matrix\n",
    "    vec3 = -numpy.mean(vec2, axis=0).reshape(d, 1) # d-by-1 matrix\n",
    "    g = vec3 + lam * w\n",
    "    return g"
   ]
  },
  {
   "cell_type": "code",
   "execution_count": 10,
   "metadata": {},
   "outputs": [],
   "source": [
    "# Gradient descent for solving logistic regression\n",
    "# Inputs:\n",
    "#     x: n-by-d matrix\n",
    "#     y: n-by-1 matrix\n",
    "#     lam: scalar, the regularization parameter\n",
    "#     stepsize: scalar\n",
    "#     max_iter: integer, the maximal iterations\n",
    "#     w: d-by-1 matrix, initialization of w\n",
    "# Return:\n",
    "#     w: d-by-1 matrix, the solution\n",
    "#     objvals: a record of each iteration's objective value\n",
    "def grad_descent(x, y, lam, stepsize, max_iter=100, w=None):\n",
    "    n, d = x.shape\n",
    "    objvals = numpy.zeros(max_iter) # store the objective values\n",
    "    if w is None:\n",
    "        w = numpy.zeros((d, 1)) # zero initialization\n",
    "    \n",
    "    for t in range(max_iter):\n",
    "        objval = objective(w, x, y, lam)\n",
    "        objvals[t] = objval\n",
    "        print('Objective value at t=' + str(t) + ' is ' + str(objval))\n",
    "        g = gradient(w, x, y, lam)\n",
    "        w -= stepsize * g\n",
    "    \n",
    "    return w, objvals"
   ]
  },
  {
   "cell_type": "markdown",
   "metadata": {},
   "source": [
    "Run gradient descent."
   ]
  },
  {
   "cell_type": "code",
   "execution_count": 11,
   "metadata": {},
   "outputs": [
    {
     "name": "stdout",
     "output_type": "stream",
     "text": [
      "Objective value at t=0 is 0.6931471805599453\n",
      "Objective value at t=1 is 0.5896605624396034\n",
      "Objective value at t=2 is 0.5480284742515564\n",
      "Objective value at t=3 is 0.5257444128233576\n",
      "Objective value at t=4 is 0.5118826954461028\n",
      "Objective value at t=5 is 0.5025267258694681\n",
      "Objective value at t=6 is 0.49589055385434894\n",
      "Objective value at t=7 is 0.4910245452750638\n",
      "Objective value at t=8 is 0.4873698659739879\n",
      "Objective value at t=9 is 0.4845740805759176\n",
      "Objective value at t=10 is 0.4824037331502619\n",
      "Objective value at t=11 is 0.48069845463321015\n",
      "Objective value at t=12 is 0.4793449417064621\n",
      "Objective value at t=13 is 0.4782613148587063\n",
      "Objective value at t=14 is 0.4773872837190893\n",
      "Objective value at t=15 is 0.4766777417089153\n",
      "Objective value at t=16 is 0.4760984738329197\n",
      "Objective value at t=17 is 0.4756232117513092\n",
      "Objective value at t=18 is 0.47523157216379425\n",
      "Objective value at t=19 is 0.47490758804442385\n",
      "Objective value at t=20 is 0.47463864587152127\n",
      "Objective value at t=21 is 0.4744147058459768\n",
      "Objective value at t=22 is 0.4742277224934103\n",
      "Objective value at t=23 is 0.47407120919427514\n",
      "Objective value at t=24 is 0.4739399074443997\n",
      "Objective value at t=25 is 0.4738295332386433\n",
      "Objective value at t=26 is 0.47373658087638504\n",
      "Objective value at t=27 is 0.47365816995780374\n",
      "Objective value at t=28 is 0.47359192517474363\n",
      "Objective value at t=29 is 0.4735358812211857\n",
      "Objective value at t=30 is 0.473488407101409\n",
      "Objective value at t=31 is 0.4734481455306338\n",
      "Objective value at t=32 is 0.4734139641609253\n",
      "Objective value at t=33 is 0.47338491613281297\n",
      "Objective value at t=34 is 0.4733602080259168\n",
      "Objective value at t=35 is 0.4733391737128879\n",
      "Objective value at t=36 is 0.47332125294786787\n",
      "Objective value at t=37 is 0.47330597377043954\n",
      "Objective value at t=38 is 0.47329293799823646\n",
      "Objective value at t=39 is 0.4732818092302452\n",
      "Objective value at t=40 is 0.47327230289887756\n",
      "Objective value at t=41 is 0.47326417799987097\n",
      "Objective value at t=42 is 0.4732572302008086\n",
      "Objective value at t=43 is 0.473251286085918\n",
      "Objective value at t=44 is 0.47324619834008624\n",
      "Objective value at t=45 is 0.4732418417112828\n",
      "Objective value at t=46 is 0.4732381096197074\n",
      "Objective value at t=47 is 0.4732349113054967\n",
      "Objective value at t=48 is 0.47323216942587104\n",
      "Objective value at t=49 is 0.47322981802809844\n",
      "Objective value at t=50 is 0.4732278008372933\n",
      "Objective value at t=51 is 0.4732260698084173\n",
      "Objective value at t=52 is 0.47322458390034794\n",
      "Objective value at t=53 is 0.4732233080368788\n",
      "Objective value at t=54 is 0.473222212225294\n",
      "Objective value at t=55 is 0.47322127080794285\n",
      "Objective value at t=56 is 0.47322046182620553\n",
      "Objective value at t=57 is 0.47321976647954783\n",
      "Objective value at t=58 is 0.47321916866510494\n",
      "Objective value at t=59 is 0.47321865458553525\n",
      "Objective value at t=60 is 0.4732182124148023\n",
      "Objective value at t=61 is 0.47321783201315515\n",
      "Objective value at t=62 is 0.4732175046839218\n",
      "Objective value at t=63 is 0.47321722296587226\n",
      "Objective value at t=64 is 0.473216980455856\n",
      "Objective value at t=65 is 0.4732167716572275\n",
      "Objective value at t=66 is 0.4732165918502513\n",
      "Objective value at t=67 is 0.47321643698125104\n",
      "Objective value at t=68 is 0.47321630356775274\n",
      "Objective value at t=69 is 0.4732161886172828\n",
      "Objective value at t=70 is 0.4732160895578304\n",
      "Objective value at t=71 is 0.4732160041782759\n",
      "Objective value at t=72 is 0.4732159305773423\n",
      "Objective value at t=73 is 0.47321586711983415\n",
      "Objective value at t=74 is 0.47321581239911303\n",
      "Objective value at t=75 is 0.473215765204911\n",
      "Objective value at t=76 is 0.4732157244957163\n",
      "Objective value at t=77 is 0.4732156893750731\n",
      "Objective value at t=78 is 0.4732156590712372\n",
      "Objective value at t=79 is 0.47321563291970653\n",
      "Objective value at t=80 is 0.47321561034821846\n",
      "Objective value at t=81 is 0.47321559086386084\n",
      "Objective value at t=82 is 0.473215574041997\n",
      "Objective value at t=83 is 0.47321555951674804\n",
      "Objective value at t=84 is 0.47321554697281093\n",
      "Objective value at t=85 is 0.4732155361384237\n",
      "Objective value at t=86 is 0.47321552677931533\n",
      "Objective value at t=87 is 0.47321551869350303\n",
      "Objective value at t=88 is 0.4732155117068143\n",
      "Objective value at t=89 is 0.47321550566903586\n",
      "Objective value at t=90 is 0.4732155004505984\n",
      "Objective value at t=91 is 0.47321549593972245\n",
      "Objective value at t=92 is 0.4732154920399623\n",
      "Objective value at t=93 is 0.47321548866809016\n",
      "Objective value at t=94 is 0.47321548575227473\n",
      "Objective value at t=95 is 0.47321548323051127\n",
      "Objective value at t=96 is 0.4732154810492708\n",
      "Objective value at t=97 is 0.4732154791623343\n",
      "Objective value at t=98 is 0.4732154775297891\n",
      "Objective value at t=99 is 0.4732154761171641\n"
     ]
    }
   ],
   "source": [
    "lam = 1E-6\n",
    "stepsize = 1.0\n",
    "w, objvals_gd = grad_descent(x_train, y_train, lam, stepsize)"
   ]
  },
  {
   "cell_type": "markdown",
   "metadata": {},
   "source": [
    "## 3.2. Stochastic gradient descent (SGD)\n",
    "\n",
    "Define $Q_i (w) = \\log \\Big( 1 + \\exp \\big( - y_i x_i^T w \\big) \\Big) + \\frac{\\lambda}{2} \\| w \\|_2^2 $.\n",
    "\n",
    "The stochastic gradient at $w$ is $g_i = \\frac{\\partial Q_i }{ \\partial w} = -\\frac{y_i x_i }{1 + \\exp ( y_i x_i^T w)} + \\lambda w$."
   ]
  },
  {
   "cell_type": "code",
   "execution_count": 12,
   "metadata": {},
   "outputs": [],
   "source": [
    "# Calculate the objective Q_i and the gradient of Q_i\n",
    "# Inputs:\n",
    "#     w: d-by-1 matrix\n",
    "#     xi: 1-by-d matrix\n",
    "#     yi: scalar\n",
    "#     lam: scalar, the regularization parameter\n",
    "# Return:\n",
    "#     obj: scalar, the objective Q_i\n",
    "#     g: d-by-1 matrix, gradient of Q_i\n",
    "def stochastic_objective_gradient(w, xi, yi, lam):\n",
    "    d = xi.shape[0]\n",
    "    yx = yi * xi # 1-by-d matrix\n",
    "    yxw = float(numpy.dot(yx, w)) # scalar\n",
    "    \n",
    "    # calculate objective function Q_i\n",
    "    loss = numpy.log(1 + numpy.exp(-yxw)) # scalar\n",
    "    reg = lam / 2 * numpy.sum(w * w) # scalar\n",
    "    obj = loss + reg\n",
    "    \n",
    "    # calculate stochastic gradient\n",
    "    g_loss = -yx.T / (1 + numpy.exp(yxw)) # d-by-1 matrix\n",
    "    g = g_loss + lam * w # d-by-1 matrix\n",
    "    \n",
    "    return obj, g"
   ]
  },
  {
   "cell_type": "code",
   "execution_count": 13,
   "metadata": {},
   "outputs": [],
   "source": [
    "# SGD for solving logistic regression\n",
    "# Inputs:\n",
    "#     x: n-by-d matrix\n",
    "#     y: n-by-1 matrix\n",
    "#     lam: scalar, the regularization parameter\n",
    "#     stepsize: scalar\n",
    "#     max_epoch: integer, the maximal epochs\n",
    "#     w: d-by-1 matrix, initialization of w\n",
    "# Return:\n",
    "#     w: the solution\n",
    "#     objvals: record of each iteration's objective value\n",
    "def sgd(x, y, lam, stepsize, max_epoch=100, w=None):\n",
    "    n, d = x.shape\n",
    "    objvals = numpy.zeros(max_epoch) # store the objective values\n",
    "    if w is None:\n",
    "        w = numpy.zeros((d, 1)) # zero initialization\n",
    "    \n",
    "    for t in range(max_epoch):\n",
    "        # randomly shuffle the samples\n",
    "        rand_indices = numpy.random.permutation(n)\n",
    "        x_rand = x[rand_indices, :]\n",
    "        y_rand = y[rand_indices, :]\n",
    "        \n",
    "        objval = 0 # accumulate the objective values\n",
    "        for i in range(n):\n",
    "            xi = x_rand[i, :] # 1-by-d matrix\n",
    "            yi = float(y_rand[i, :]) # scalar\n",
    "            obj, g = stochastic_objective_gradient(w, xi, yi, lam)\n",
    "            objval += obj\n",
    "            w -= stepsize * g\n",
    "        \n",
    "        stepsize *= 0.9 # decrease step size\n",
    "        objval /= n\n",
    "        objvals[t] = objval\n",
    "        print('Objective value at epoch t=' + str(t) + ' is ' + str(objval))\n",
    "    \n",
    "    return w, objvals"
   ]
  },
  {
   "cell_type": "markdown",
   "metadata": {},
   "source": [
    "Run SGD."
   ]
  },
  {
   "cell_type": "code",
   "execution_count": 14,
   "metadata": {},
   "outputs": [
    {
     "name": "stdout",
     "output_type": "stream",
     "text": [
      "Objective value at epoch t=0 is 0.5330882781585781\n",
      "Objective value at epoch t=1 is 0.5196250573347133\n",
      "Objective value at epoch t=2 is 0.5086352482351317\n",
      "Objective value at epoch t=3 is 0.5110471799071263\n",
      "Objective value at epoch t=4 is 0.5070725436860416\n",
      "Objective value at epoch t=5 is 0.5077245515098292\n",
      "Objective value at epoch t=6 is 0.5066097064252716\n",
      "Objective value at epoch t=7 is 0.49683682558760484\n",
      "Objective value at epoch t=8 is 0.4980916409926842\n",
      "Objective value at epoch t=9 is 0.49253863552298605\n",
      "Objective value at epoch t=10 is 0.4913190230164769\n",
      "Objective value at epoch t=11 is 0.4907681474908713\n",
      "Objective value at epoch t=12 is 0.49062223871991606\n",
      "Objective value at epoch t=13 is 0.4874093877788971\n",
      "Objective value at epoch t=14 is 0.4889927640763094\n",
      "Objective value at epoch t=15 is 0.4835437070956954\n",
      "Objective value at epoch t=16 is 0.48301717412407735\n",
      "Objective value at epoch t=17 is 0.4821367205496707\n",
      "Objective value at epoch t=18 is 0.48340143088401827\n",
      "Objective value at epoch t=19 is 0.4821037846383606\n",
      "Objective value at epoch t=20 is 0.4809916354597997\n",
      "Objective value at epoch t=21 is 0.4797992109831878\n",
      "Objective value at epoch t=22 is 0.4797467516121297\n",
      "Objective value at epoch t=23 is 0.4792493164416256\n",
      "Objective value at epoch t=24 is 0.47809948313646744\n",
      "Objective value at epoch t=25 is 0.47820517240998167\n",
      "Objective value at epoch t=26 is 0.47771568938310593\n",
      "Objective value at epoch t=27 is 0.4771050133152996\n",
      "Objective value at epoch t=28 is 0.47694208402019295\n",
      "Objective value at epoch t=29 is 0.4765091630932484\n",
      "Objective value at epoch t=30 is 0.4761419093488254\n",
      "Objective value at epoch t=31 is 0.47595111078176106\n",
      "Objective value at epoch t=32 is 0.47560301770033053\n",
      "Objective value at epoch t=33 is 0.47546984541015835\n",
      "Objective value at epoch t=34 is 0.47518948791494103\n",
      "Objective value at epoch t=35 is 0.4750502045578158\n",
      "Objective value at epoch t=36 is 0.474817627978606\n",
      "Objective value at epoch t=37 is 0.4747138445126965\n",
      "Objective value at epoch t=38 is 0.47451796128472956\n",
      "Objective value at epoch t=39 is 0.4744058939178525\n",
      "Objective value at epoch t=40 is 0.4742895333794178\n",
      "Objective value at epoch t=41 is 0.47418161702528483\n",
      "Objective value at epoch t=42 is 0.4740822256996953\n",
      "Objective value at epoch t=43 is 0.47399684390036106\n",
      "Objective value at epoch t=44 is 0.4739289673758259\n",
      "Objective value at epoch t=45 is 0.47385893653217304\n",
      "Objective value at epoch t=46 is 0.47379394920917584\n",
      "Objective value at epoch t=47 is 0.47373647230581684\n",
      "Objective value at epoch t=48 is 0.47368081448544236\n",
      "Objective value at epoch t=49 is 0.4736398204245595\n",
      "Objective value at epoch t=50 is 0.47359559721113936\n",
      "Objective value at epoch t=51 is 0.4735567522886538\n",
      "Objective value at epoch t=52 is 0.4735252652905941\n",
      "Objective value at epoch t=53 is 0.4734928408056048\n",
      "Objective value at epoch t=54 is 0.4734651655149832\n",
      "Objective value at epoch t=55 is 0.47344048163950275\n",
      "Objective value at epoch t=56 is 0.4734188094658999\n",
      "Objective value at epoch t=57 is 0.47339786305876475\n",
      "Objective value at epoch t=58 is 0.473380166502102\n",
      "Objective value at epoch t=59 is 0.47336371719409776\n",
      "Objective value at epoch t=60 is 0.4733489057091318\n",
      "Objective value at epoch t=61 is 0.4733354413712408\n",
      "Objective value at epoch t=62 is 0.47332357613674886\n",
      "Objective value at epoch t=63 is 0.4733128005066223\n",
      "Objective value at epoch t=64 is 0.47330318808098737\n",
      "Objective value at epoch t=65 is 0.4732945485784802\n",
      "Objective value at epoch t=66 is 0.47328666634806754\n",
      "Objective value at epoch t=67 is 0.4732794967733204\n",
      "Objective value at epoch t=68 is 0.4732731621322315\n",
      "Objective value at epoch t=69 is 0.47326743300028146\n",
      "Objective value at epoch t=70 is 0.4732622729947459\n",
      "Objective value at epoch t=71 is 0.4732575902010147\n",
      "Objective value at epoch t=72 is 0.47325343580234636\n",
      "Objective value at epoch t=73 is 0.47324966772287314\n",
      "Objective value at epoch t=74 is 0.4732462497324964\n",
      "Objective value at epoch t=75 is 0.47324321346551856\n",
      "Objective value at epoch t=76 is 0.4732404605310482\n",
      "Objective value at epoch t=77 is 0.47323799697815544\n",
      "Objective value at epoch t=78 is 0.47323575508657906\n",
      "Objective value at epoch t=79 is 0.4732337631340167\n",
      "Objective value at epoch t=80 is 0.473231953200127\n",
      "Objective value at epoch t=81 is 0.4732303320853952\n",
      "Objective value at epoch t=82 is 0.47322887280705733\n",
      "Objective value at epoch t=83 is 0.47322755620577095\n",
      "Objective value at epoch t=84 is 0.4732263729142212\n",
      "Objective value at epoch t=85 is 0.4732253056426117\n",
      "Objective value at epoch t=86 is 0.47322434551510134\n",
      "Objective value at epoch t=87 is 0.4732234830899154\n",
      "Objective value at epoch t=88 is 0.4732227061168395\n",
      "Objective value at epoch t=89 is 0.4732220063363277\n",
      "Objective value at epoch t=90 is 0.47322137727213887\n",
      "Objective value at epoch t=91 is 0.47322081091787405\n",
      "Objective value at epoch t=92 is 0.47322030093821954\n",
      "Objective value at epoch t=93 is 0.47321984189671457\n",
      "Objective value at epoch t=94 is 0.4732194289719115\n",
      "Objective value at epoch t=95 is 0.4732190572650691\n",
      "Objective value at epoch t=96 is 0.4732187227105957\n",
      "Objective value at epoch t=97 is 0.4732184215458834\n",
      "Objective value at epoch t=98 is 0.47321815059612876\n",
      "Objective value at epoch t=99 is 0.47321790660038576\n"
     ]
    }
   ],
   "source": [
    "lam = 1E-6\n",
    "stepsize = 0.1\n",
    "w, objvals_sgd = sgd(x_train, y_train, lam, stepsize)"
   ]
  },
  {
   "cell_type": "markdown",
   "metadata": {},
   "source": [
    "# 4. Compare GD with SGD\n",
    "\n",
    "Plot objective function values against epochs."
   ]
  },
  {
   "cell_type": "code",
   "execution_count": 13,
   "metadata": {},
   "outputs": [
    {
     "name": "stderr",
     "output_type": "stream",
     "text": [
      "<ipython-input-13-9b8d8f4cdfb5>:9: MatplotlibDeprecationWarning: Case-insensitive properties were deprecated in 3.3 and support will be removed two minor releases later\n",
      "  line0, = plt.plot(epochs_gd, objvals_gd, '--b', LineWidth=4)\n",
      "<ipython-input-13-9b8d8f4cdfb5>:10: MatplotlibDeprecationWarning: Case-insensitive properties were deprecated in 3.3 and support will be removed two minor releases later\n",
      "  line1, = plt.plot(epochs_sgd, objvals_sgd, '-r', LineWidth=2)\n",
      "<ipython-input-13-9b8d8f4cdfb5>:11: MatplotlibDeprecationWarning: Case-insensitive properties were deprecated in 3.3 and support will be removed two minor releases later\n",
      "  plt.xlabel('Epochs', FontSize=20)\n",
      "<ipython-input-13-9b8d8f4cdfb5>:12: MatplotlibDeprecationWarning: Case-insensitive properties were deprecated in 3.3 and support will be removed two minor releases later\n",
      "  plt.ylabel('Objective Value', FontSize=20)\n",
      "<ipython-input-13-9b8d8f4cdfb5>:13: MatplotlibDeprecationWarning: Case-insensitive properties were deprecated in 3.3 and support will be removed two minor releases later\n",
      "  plt.xticks(FontSize=16)\n",
      "<ipython-input-13-9b8d8f4cdfb5>:14: MatplotlibDeprecationWarning: Case-insensitive properties were deprecated in 3.3 and support will be removed two minor releases later\n",
      "  plt.yticks(FontSize=16)\n"
     ]
    },
    {
     "data": {
      "image/png": "[encoded data removed]",
      "text/plain": [
       "<Figure size 432x288 with 1 Axes>"
      ]
     },
     "metadata": {
      "needs_background": "light"
     },
     "output_type": "display_data"
    }
   ],
   "source": [
    "import matplotlib.pyplot as plt\n",
    "%matplotlib inline\n",
    "\n",
    "fig = plt.figure(figsize=(6, 4))\n",
    "\n",
    "epochs_gd = range(len(objvals_gd))\n",
    "epochs_sgd = range(len(objvals_sgd))\n",
    "\n",
    "line0, = plt.plot(epochs_gd, objvals_gd, '--b', LineWidth=4)\n",
    "line1, = plt.plot(epochs_sgd, objvals_sgd, '-r', LineWidth=2)\n",
    "plt.xlabel('Epochs', FontSize=20)\n",
    "plt.ylabel('Objective Value', FontSize=20)\n",
    "plt.xticks(FontSize=16)\n",
    "plt.yticks(FontSize=16)\n",
    "plt.legend([line0, line1], ['GD', 'SGD'], fontsize=20)\n",
    "plt.tight_layout()\n",
    "plt.show()\n",
    "fig.savefig('compare_gd_sgd.pdf', format='pdf', dpi=1200)"
   ]
  },
  {
   "cell_type": "markdown",
   "metadata": {},
   "source": [
    "# 5. Prediction"
   ]
  },
  {
   "cell_type": "code",
   "execution_count": 15,
   "metadata": {},
   "outputs": [],
   "source": [
    "# Predict class label\n",
    "# Inputs:\n",
    "#     w: d-by-1 matrix\n",
    "#     X: m-by-d matrix\n",
    "# Return:\n",
    "#     f: m-by-1 matrix, the predictions\n",
    "def predict(w, X):\n",
    "    xw = numpy.dot(X, w)\n",
    "    f = numpy.sign(xw)\n",
    "    return f"
   ]
  },
  {
   "cell_type": "code",
   "execution_count": 16,
   "metadata": {},
   "outputs": [
    {
     "name": "stdout",
     "output_type": "stream",
     "text": [
      "Training classification error is 0.2203125\n"
     ]
    }
   ],
   "source": [
    "# evaluate training error\n",
    "f_train = predict(w, x_train)\n",
    "diff = numpy.abs(f_train - y_train) / 2\n",
    "error_train = numpy.mean(diff)\n",
    "print('Training classification error is ' + str(error_train))"
   ]
  },
  {
   "cell_type": "code",
   "execution_count": 17,
   "metadata": {},
   "outputs": [
    {
     "name": "stdout",
     "output_type": "stream",
     "text": [
      "Test classification error is 0.2734375\n"
     ]
    }
   ],
   "source": [
    "# evaluate test error\n",
    "f_test = predict(w, x_test)\n",
    "diff = numpy.abs(f_test - y_test) / 2\n",
    "error_test = numpy.mean(diff)\n",
    "print('Test classification error is ' + str(error_test))"
   ]
  },
  {
   "cell_type": "markdown",
   "metadata": {},
   "source": [
    "# 6. Mini-batch SGD (fill the code)\n",
    "\n"
   ]
  },
  {
   "cell_type": "markdown",
   "metadata": {},
   "source": [
    "## 6.1. Compute the objective $Q_I$ and its gradient using a batch of samples\n",
    "\n",
    "Define $Q_I (w) = \\frac{1}{b} \\sum_{i \\in I} \\log \\Big( 1 + \\exp \\big( - y_i x_i^T w \\big) \\Big) + \\frac{\\lambda}{2} \\| w \\|_2^2 $, where $I$ is a set containing $b$ indices randomly drawn from $\\{ 1, \\cdots , n \\}$ without replacement.\n",
    "\n",
    "The stochastic gradient at $w$ is $g_I = \\frac{\\partial Q_I }{ \\partial w} = \\frac{1}{b} \\sum_{i \\in I} \\frac{- y_i x_i }{1 + \\exp ( y_i x_i^T w)} + \\lambda w$."
   ]
  },
  {
   "cell_type": "code",
   "execution_count": 77,
   "metadata": {},
   "outputs": [],
   "source": [
    "# Calculate the objective Q_I and the gradient of Q_I\n",
    "# Inputs:\n",
    "#     w: d-by-1 matrix\n",
    "#     xi: b-by-d matrix\n",
    "#     yi: b-by-1 matrix\n",
    "#     lam: scalar, the regularization parameter\n",
    "#     b: integer, the batch size\n",
    "# Return:\n",
    "#     obj: scalar, the objective Q_i\n",
    "#     g: d-by-1 matrix, gradient of Q_i\n",
    "    \n",
    "def mb_stochastic_objective_gradient(w, x_mini, y_mini, lam, b):\n",
    "    # Fill the function\n",
    "    # Follow the implementation of stochastic_objective_gradient\n",
    "    # Use matrix-vector multiplication; do not use FOR LOOP of vector-vector multiplications\n",
    "    d = x_mini.shape[0]\n",
    "    \n",
    "    \n",
    "    obj_mean = 0 #store obj values\n",
    "    grad_mean = 0 #store gradient values\n",
    "    for i in range(b):\n",
    "        # calculate objective function Q_i\n",
    "        x = x_mini[i, :]\n",
    "        y = float(y_mini[i, :])\n",
    "        yx = y * x # 1-by-d matrix\n",
    "        yxw = float(numpy.dot(yx, w)) # scalar\n",
    "        loss = numpy.log(1 + numpy.exp(-yxw)) # scalar\n",
    "        \n",
    "        #calculate gradient loss \n",
    "        g_loss = (-yx.T / (1 + numpy.exp(yxw))) # d-by-1 matrix\n",
    "        \n",
    "        obj_mean += loss #sum obj \n",
    "        grad_mean += g_loss #sum gradient\n",
    "        \n",
    "    reg = lam / 2 * numpy.sum(w * w) # scalar\n",
    "    if b == 8:\n",
    "        obj_mean /= b *80\n",
    "    else:\n",
    "        obj_mean /= b*10\n",
    "    obj = obj_mean + reg #objective function Q_i  \n",
    "    grad_mean /= b\n",
    "    g = grad_mean + lam * w # d-by-1 matrix\n",
    "\n",
    "   \n",
    "    return obj, g"
   ]
  },
  {
   "cell_type": "markdown",
   "metadata": {},
   "source": [
    "## 6.2. Implement mini-batch SGD\n",
    "\n",
    "Hints:\n",
    "1. In every epoch, randomly permute the $n$ samples (just like SGD).\n",
    "2. Each epoch has $\\frac{n}{b}$ iterations. In every iteration, use $b$ samples, and compute the gradient and objective using the ``mb_stochastic_objective_gradient`` function. In the next iteration, use the next $b$ samples, and so on.\n"
   ]
  },
  {
   "cell_type": "code",
   "execution_count": 52,
   "metadata": {},
   "outputs": [],
   "source": [
    "def create_mini_batches(x, y, b):   #function to create mini batches\n",
    "    d = x.shape[0]            \n",
    "    mini_batches = []         #setting up empty list to store values\n",
    "    no_batches = d//b         #determing batch size \n",
    "    data = numpy.column_stack((x, y)) #concatenate x and y  \n",
    "    numpy.random.shuffle(data)\n",
    "    m = 0\n",
    "        \n",
    "    for m in range(no_batches):      #for loop to create the batches \n",
    "        mini_batch = data[m*b:(m+1)*b, :]  #index to create next batch\n",
    "        x_mini = mini_batch[:, :-1]\n",
    "        y_mini = mini_batch[:, -1].reshape((-1,1))\n",
    "        mini_batches.append((x_mini, y_mini))  #add  batch to the list\n",
    "    return mini_batches"
   ]
  },
  {
   "cell_type": "code",
   "execution_count": 53,
   "metadata": {},
   "outputs": [],
   "source": [
    "# Mini-Batch SGD for solving logistic regression\n",
    "# Inputs:\n",
    "#     x: n-by-d matrix\n",
    "#     y: n-by-1 matrix\n",
    "#     lam: scalar, the regularization parameter\n",
    "#     b: integer, the batch size\n",
    "#     stepsize: scalar\n",
    "#     max_epoch: integer, the maximal epochs\n",
    "#     w: d-by-1 matrix, initialization of w\n",
    "# Return:\n",
    "#     w: the solution\n",
    "#     objvals: record of each iteration's objective value\n",
    "def mb_sgd(x, y, lam, b, stepsize, max_epoch=100, w=None):\n",
    "    # Fill the function\n",
    "    # Follow the implementation of sgd\n",
    "    # Record one objective value per epoch (not per iteration!)\n",
    "    ...\n",
    "    n = x.shape\n",
    "    d = x.shape[0]\n",
    "    c = x.shape[1]\n",
    "    objvals = numpy.zeros(max_epoch) # store the objective values\n",
    "    if w is None:\n",
    "        w = numpy.zeros((c, 1)) # zero initialization\n",
    "    no_batches = d//b   #number of batches\n",
    "    \n",
    "    for t in range(max_epoch):\n",
    "        objval = 0 # accumulate the objective values\n",
    "        for i in range(no_batches):\n",
    "            mini_batches = create_mini_batches(x, y, b)  #create mini batches\n",
    "            for mini_batch in mini_batches:\n",
    "                x_mini, y_mini = mini_batch\n",
    "                \n",
    "                obj, g = mb_stochastic_objective_gradient(w, x_mini, y_mini, lam, b)\n",
    "                objval += obj\n",
    "                w -= stepsize * g\n",
    "        \n",
    "        stepsize *= 0.9 # decrease step size\n",
    "        objval /= no_batches   \n",
    "        objvals[t] = objval \n",
    "        print('Objective value at epoch t=' + str(t) + ' is ' + str(objval))\n",
    "    \n",
    "    return w, objvals"
   ]
  },
  {
   "cell_type": "markdown",
   "metadata": {},
   "source": [
    "## 6.3. Run MB-SGD"
   ]
  },
  {
   "cell_type": "code",
   "execution_count": 71,
   "metadata": {},
   "outputs": [
    {
     "name": "stdout",
     "output_type": "stream",
     "text": [
      "P Value : 0.1 (76.40625, 7.637093381156211)\n",
      "P Value : 0.2 (76.875, 6.547602137424049)\n",
      "P Value : 0.3 (76.40625, 3.792081593597374)\n",
      "P Value : 0.4 (76.5625, 5.6768444139327965)\n",
      "P Value : 0.5 (76.71875, 7.376919771320548)\n",
      "P Value : 0.6 (77.34375, 5.146771591250189)\n",
      "P Value : 0.7 (76.09375, 6.406249999999999)\n",
      "P Value : 0.8 (76.40625, 5.609788459692576)\n",
      "P Value : 0.9 (77.5, 5.510997527671375)\n",
      "P Value : 1 (77.03125, 6.556917268236652)\n",
      "P Value : 1.5 (76.5625, 5.54632479665589)\n",
      "P Value : 2 (77.34375, 4.903860883273505)\n"
     ]
    }
   ],
   "source": [
    "# stepsize parameter tuning using k-fold cross validation\n",
    "from sklearn.model_selection import KFold \n",
    "from sklearn.linear_model import LogisticRegression\n",
    "from sklearn.model_selection import cross_val_score\n",
    "\n",
    "C_values = [0.1, 0.2, 0.3, 0.4, 0.5, 0.6, 0.7, 0.8, 0.9, 1, 1.5, 2]  #step parameters\n",
    "\n",
    "for value in C_values:\n",
    "    kf10 = KFold(n_splits=10, shuffle=True)   #split data into 10 folds\n",
    "    model = LogisticRegression(C=value)    #use regression for model\n",
    "\n",
    "    results = cross_val_score(model, x_train, numpy.ravel(y_train), cv = kf10, scoring='accuracy') # check accuracy scores\n",
    "    print(\"P Value :\", value, (results.mean()*100.0, results.std()*100.0))\n",
    "\n"
   ]
  },
  {
   "cell_type": "markdown",
   "metadata": {},
   "source": [
    "Stepvalue of 0.9 has the highest accuracy. I will use this number moving forward "
   ]
  },
  {
   "cell_type": "code",
   "execution_count": 78,
   "metadata": {},
   "outputs": [
    {
     "name": "stdout",
     "output_type": "stream",
     "text": [
      "Objective value at epoch t=0 is 0.535280810409252\n",
      "Objective value at epoch t=1 is 0.5283500822504583\n",
      "Objective value at epoch t=2 is 0.5228930805214691\n",
      "Objective value at epoch t=3 is 0.5177742303218384\n",
      "Objective value at epoch t=4 is 0.5130493930777495\n",
      "Objective value at epoch t=5 is 0.5094617039406345\n",
      "Objective value at epoch t=6 is 0.5058116984942724\n",
      "Objective value at epoch t=7 is 0.5036684885533376\n",
      "Objective value at epoch t=8 is 0.49926896922570546\n",
      "Objective value at epoch t=9 is 0.4970693124141293\n",
      "Objective value at epoch t=10 is 0.49508238355146955\n",
      "Objective value at epoch t=11 is 0.4928282627212567\n",
      "Objective value at epoch t=12 is 0.49144732177295075\n",
      "Objective value at epoch t=13 is 0.4892004540207435\n",
      "Objective value at epoch t=14 is 0.4883296370447301\n",
      "Objective value at epoch t=15 is 0.4868444081398751\n",
      "Objective value at epoch t=16 is 0.48584387264131335\n",
      "Objective value at epoch t=17 is 0.48446960933432087\n",
      "Objective value at epoch t=18 is 0.4836111107043849\n",
      "Objective value at epoch t=19 is 0.4824947482886778\n",
      "Objective value at epoch t=20 is 0.48170612444496036\n",
      "Objective value at epoch t=21 is 0.4810965582802192\n",
      "Objective value at epoch t=22 is 0.48022339563227234\n",
      "Objective value at epoch t=23 is 0.4797360104244047\n",
      "Objective value at epoch t=24 is 0.4791254431303352\n",
      "Objective value at epoch t=25 is 0.478665041547586\n",
      "Objective value at epoch t=26 is 0.4781424286155513\n",
      "Objective value at epoch t=27 is 0.477704703447787\n",
      "Objective value at epoch t=28 is 0.47728461028999236\n",
      "Objective value at epoch t=29 is 0.4769078918399442\n",
      "Objective value at epoch t=30 is 0.47657793084908506\n",
      "Objective value at epoch t=31 is 0.4762901419185246\n",
      "Objective value at epoch t=32 is 0.47599854930097935\n",
      "Objective value at epoch t=33 is 0.4757278703202661\n",
      "Objective value at epoch t=34 is 0.4755248877124134\n",
      "Objective value at epoch t=35 is 0.4753200967646861\n",
      "Objective value at epoch t=36 is 0.47509831730247515\n",
      "Objective value at epoch t=37 is 0.47494713904476155\n",
      "Objective value at epoch t=38 is 0.4748026699041416\n",
      "Objective value at epoch t=39 is 0.47464688641595354\n",
      "Objective value at epoch t=40 is 0.4745297805291278\n",
      "Objective value at epoch t=41 is 0.47439262224349765\n",
      "Objective value at epoch t=42 is 0.47428750536582864\n",
      "Objective value at epoch t=43 is 0.47418822023385065\n",
      "Objective value at epoch t=44 is 0.47411113009295336\n",
      "Objective value at epoch t=45 is 0.4740365010563686\n",
      "Objective value at epoch t=46 is 0.4739613973989824\n",
      "Objective value at epoch t=47 is 0.4739024642237758\n",
      "Objective value at epoch t=48 is 0.4738468286085597\n",
      "Objective value at epoch t=49 is 0.4737919101815861\n",
      "Objective value at epoch t=50 is 0.4737487071744636\n",
      "Objective value at epoch t=51 is 0.4737035101253955\n",
      "Objective value at epoch t=52 is 0.47366995577741566\n",
      "Objective value at epoch t=53 is 0.4736362338567911\n",
      "Objective value at epoch t=54 is 0.47360164546797057\n",
      "Objective value at epoch t=55 is 0.47357720428934413\n",
      "Objective value at epoch t=56 is 0.47355354932991567\n",
      "Objective value at epoch t=57 is 0.4735285197241696\n",
      "Objective value at epoch t=58 is 0.4735097766805825\n",
      "Objective value at epoch t=59 is 0.4734918915814451\n",
      "Objective value at epoch t=60 is 0.4734731825286632\n",
      "Objective value at epoch t=61 is 0.47345803550251303\n",
      "Objective value at epoch t=62 is 0.4734462376448172\n",
      "Objective value at epoch t=63 is 0.4734339351443396\n",
      "Objective value at epoch t=64 is 0.47342238084995253\n",
      "Objective value at epoch t=65 is 0.47341362327722286\n",
      "Objective value at epoch t=66 is 0.47340521408755165\n",
      "Objective value at epoch t=67 is 0.4733972587924787\n",
      "Objective value at epoch t=68 is 0.4733897466655718\n",
      "Objective value at epoch t=69 is 0.4733833206808703\n",
      "Objective value at epoch t=70 is 0.473378080467538\n",
      "Objective value at epoch t=71 is 0.47337208686296145\n",
      "Objective value at epoch t=72 is 0.4733680562178403\n",
      "Objective value at epoch t=73 is 0.473363853018817\n",
      "Objective value at epoch t=74 is 0.4733597079655382\n",
      "Objective value at epoch t=75 is 0.47335659858634793\n",
      "Objective value at epoch t=76 is 0.47335339055496944\n",
      "Objective value at epoch t=77 is 0.47335055379482477\n",
      "Objective value at epoch t=78 is 0.47334801046679803\n",
      "Objective value at epoch t=79 is 0.47334584941854985\n",
      "Objective value at epoch t=80 is 0.47334398030287544\n",
      "Objective value at epoch t=81 is 0.4733420553576611\n",
      "Objective value at epoch t=82 is 0.47334062551378153\n",
      "Objective value at epoch t=83 is 0.4733391000252662\n",
      "Objective value at epoch t=84 is 0.47333760346788434\n",
      "Objective value at epoch t=85 is 0.4733365856214554\n",
      "Objective value at epoch t=86 is 0.47333556156669354\n",
      "Objective value at epoch t=87 is 0.47333462431451184\n",
      "Objective value at epoch t=88 is 0.4733336174252563\n",
      "Objective value at epoch t=89 is 0.47333286450858597\n",
      "Objective value at epoch t=90 is 0.47333216283708063\n",
      "Objective value at epoch t=91 is 0.47333160060877244\n",
      "Objective value at epoch t=92 is 0.4733310125157761\n",
      "Objective value at epoch t=93 is 0.4733304971993905\n",
      "Objective value at epoch t=94 is 0.47332995893072694\n",
      "Objective value at epoch t=95 is 0.473329605206746\n",
      "Objective value at epoch t=96 is 0.4733292113955631\n",
      "Objective value at epoch t=97 is 0.4733289014542498\n",
      "Objective value at epoch t=98 is 0.47332854302825506\n",
      "Objective value at epoch t=99 is 0.47332833708966443\n"
     ]
    }
   ],
   "source": [
    "# MB-SGD with batch size b=8\n",
    "lam = 1E-6 # do not change\n",
    "b = 8 # do not change\n",
    "stepsize = 0.9 # you must tune this parameter\n",
    "\n",
    "w, objvals_mbsgd8 = mb_sgd(x_train, y_train, lam, b, stepsize)"
   ]
  },
  {
   "cell_type": "code",
   "execution_count": 72,
   "metadata": {},
   "outputs": [
    {
     "name": "stdout",
     "output_type": "stream",
     "text": [
      "Objective value at epoch t=0 is 0.4893025139122991\n",
      "Objective value at epoch t=1 is 0.48135450908263494\n",
      "Objective value at epoch t=2 is 0.4803255633248404\n",
      "Objective value at epoch t=3 is 0.47949110600172\n",
      "Objective value at epoch t=4 is 0.47919022528525046\n",
      "Objective value at epoch t=5 is 0.47840880769348193\n",
      "Objective value at epoch t=6 is 0.4779754676611729\n",
      "Objective value at epoch t=7 is 0.4776133131745959\n",
      "Objective value at epoch t=8 is 0.47692419545330533\n",
      "Objective value at epoch t=9 is 0.4768724034989923\n",
      "Objective value at epoch t=10 is 0.47615595552475654\n",
      "Objective value at epoch t=11 is 0.47652498698526785\n",
      "Objective value at epoch t=12 is 0.47575626776713786\n",
      "Objective value at epoch t=13 is 0.4755007694338203\n",
      "Objective value at epoch t=14 is 0.47548058016166433\n",
      "Objective value at epoch t=15 is 0.47497106959556257\n",
      "Objective value at epoch t=16 is 0.4749803962156071\n",
      "Objective value at epoch t=17 is 0.47479084024544854\n",
      "Objective value at epoch t=18 is 0.4745427263533605\n",
      "Objective value at epoch t=19 is 0.4744027668264638\n",
      "Objective value at epoch t=20 is 0.47427329979569494\n",
      "Objective value at epoch t=21 is 0.4742883052802969\n",
      "Objective value at epoch t=22 is 0.47411360987698403\n",
      "Objective value at epoch t=23 is 0.4740747631842268\n",
      "Objective value at epoch t=24 is 0.47403369159993397\n",
      "Objective value at epoch t=25 is 0.4739792654984444\n",
      "Objective value at epoch t=26 is 0.4738381266544892\n",
      "Objective value at epoch t=27 is 0.47376478840051667\n",
      "Objective value at epoch t=28 is 0.47371825135666024\n",
      "Objective value at epoch t=29 is 0.4736682109080711\n",
      "Objective value at epoch t=30 is 0.47364500448053903\n",
      "Objective value at epoch t=31 is 0.47361464044235396\n",
      "Objective value at epoch t=32 is 0.4735495344028774\n",
      "Objective value at epoch t=33 is 0.4735329430699057\n",
      "Objective value at epoch t=34 is 0.4734970643020476\n",
      "Objective value at epoch t=35 is 0.47344901070458967\n",
      "Objective value at epoch t=36 is 0.47344992384141305\n",
      "Objective value at epoch t=37 is 0.4734012805948985\n",
      "Objective value at epoch t=38 is 0.47338636135970535\n",
      "Objective value at epoch t=39 is 0.4733648620717599\n",
      "Objective value at epoch t=40 is 0.4733524478557876\n",
      "Objective value at epoch t=41 is 0.4733610648937054\n",
      "Objective value at epoch t=42 is 0.4733353330267646\n",
      "Objective value at epoch t=43 is 0.47333887867689206\n",
      "Objective value at epoch t=44 is 0.4733259727363075\n",
      "Objective value at epoch t=45 is 0.4733119615935707\n",
      "Objective value at epoch t=46 is 0.47329739380521374\n",
      "Objective value at epoch t=47 is 0.47328958297262397\n",
      "Objective value at epoch t=48 is 0.47328768935046883\n",
      "Objective value at epoch t=49 is 0.4732786087334994\n",
      "Objective value at epoch t=50 is 0.47327701126427124\n",
      "Objective value at epoch t=51 is 0.47327204063434836\n",
      "Objective value at epoch t=52 is 0.4732679064642159\n",
      "Objective value at epoch t=53 is 0.4732628891877281\n",
      "Objective value at epoch t=54 is 0.4732610139062679\n",
      "Objective value at epoch t=55 is 0.4732530634846709\n",
      "Objective value at epoch t=56 is 0.4732542221194497\n",
      "Objective value at epoch t=57 is 0.47325013572394026\n",
      "Objective value at epoch t=58 is 0.4732494652956764\n",
      "Objective value at epoch t=59 is 0.47324581724277903\n",
      "Objective value at epoch t=60 is 0.47324461598078704\n",
      "Objective value at epoch t=61 is 0.4732425503989212\n",
      "Objective value at epoch t=62 is 0.4732419456087221\n",
      "Objective value at epoch t=63 is 0.4732392888552649\n",
      "Objective value at epoch t=64 is 0.4732389231727905\n",
      "Objective value at epoch t=65 is 0.4732371402695576\n",
      "Objective value at epoch t=66 is 0.4732370185372198\n",
      "Objective value at epoch t=67 is 0.473236293973813\n",
      "Objective value at epoch t=68 is 0.4732359711982002\n",
      "Objective value at epoch t=69 is 0.4732351242204908\n",
      "Objective value at epoch t=70 is 0.4732339389708935\n",
      "Objective value at epoch t=71 is 0.47323322560555026\n",
      "Objective value at epoch t=72 is 0.4732325685707221\n",
      "Objective value at epoch t=73 is 0.47323256459061847\n",
      "Objective value at epoch t=74 is 0.4732319644157383\n",
      "Objective value at epoch t=75 is 0.4732315397001717\n",
      "Objective value at epoch t=76 is 0.4732312434821833\n",
      "Objective value at epoch t=77 is 0.4732308335675013\n",
      "Objective value at epoch t=78 is 0.4732304066496977\n",
      "Objective value at epoch t=79 is 0.4732300648825687\n",
      "Objective value at epoch t=80 is 0.47323017963679936\n",
      "Objective value at epoch t=81 is 0.4732297637509733\n",
      "Objective value at epoch t=82 is 0.47322972263280183\n",
      "Objective value at epoch t=83 is 0.47322952724601997\n",
      "Objective value at epoch t=84 is 0.47322927784517754\n",
      "Objective value at epoch t=85 is 0.47322923495703223\n",
      "Objective value at epoch t=86 is 0.47322908067948977\n",
      "Objective value at epoch t=87 is 0.47322896940938264\n",
      "Objective value at epoch t=88 is 0.4732288868278293\n",
      "Objective value at epoch t=89 is 0.4732288090272185\n",
      "Objective value at epoch t=90 is 0.4732288178822146\n",
      "Objective value at epoch t=91 is 0.47322869562768943\n",
      "Objective value at epoch t=92 is 0.4732286269777183\n",
      "Objective value at epoch t=93 is 0.4732286181739993\n",
      "Objective value at epoch t=94 is 0.4732285084333062\n",
      "Objective value at epoch t=95 is 0.47322845982090883\n",
      "Objective value at epoch t=96 is 0.4732284460488213\n",
      "Objective value at epoch t=97 is 0.47322840381868103\n",
      "Objective value at epoch t=98 is 0.47322834807800973\n",
      "Objective value at epoch t=99 is 0.47322832038650925\n"
     ]
    }
   ],
   "source": [
    "# MB-SGD with batch size b=64\n",
    "lam = 1E-6 # do not change\n",
    "b = 64 # do not change\n",
    "stepsize = 0.9 # you must tune this parameter\n",
    "\n",
    "w, objvals_mbsgd64 = mb_sgd(x_train, y_train, lam, b, stepsize)"
   ]
  },
  {
   "cell_type": "markdown",
   "metadata": {},
   "source": [
    "# 7. Plot and compare GD, SGD, and MB-SGD"
   ]
  },
  {
   "cell_type": "markdown",
   "metadata": {},
   "source": [
    "You are required to compare the following algorithms:\n",
    "\n",
    "- Gradient descent (GD)\n",
    "\n",
    "- SGD\n",
    "\n",
    "- MB-SGD with b=8\n",
    "\n",
    "- MB-SGD with b=64\n",
    "\n",
    "Follow the code in Section 4 to plot ```objective function value``` against ```epochs```. There should be four curves in the plot; each curve corresponds to one algorithm."
   ]
  },
  {
   "cell_type": "markdown",
   "metadata": {},
   "source": [
    "Hint: Logistic regression with $\\ell_2$-norm regularization is a strongly convex optimization problem. All the algorithms will converge to the same solution. **In the end, the ``objective function value`` of the 4 algorithms will be the same. If not the same, your implementation must be wrong. Do NOT submit wrong code and wrong result!**"
   ]
  },
  {
   "cell_type": "code",
   "execution_count": 79,
   "metadata": {},
   "outputs": [
    {
     "name": "stderr",
     "output_type": "stream",
     "text": [
      "<ipython-input-79-87712f56ef7f>:12: MatplotlibDeprecationWarning: Case-insensitive properties were deprecated in 3.3 and support will be removed two minor releases later\n",
      "  line0, = plt.plot(epochs_gd, objvals_gd, '--b', LineWidth=4)\n",
      "<ipython-input-79-87712f56ef7f>:13: MatplotlibDeprecationWarning: Case-insensitive properties were deprecated in 3.3 and support will be removed two minor releases later\n",
      "  line1, = plt.plot(epochs_sgd, objvals_sgd, '-r', LineWidth=2)\n",
      "<ipython-input-79-87712f56ef7f>:14: MatplotlibDeprecationWarning: Case-insensitive properties were deprecated in 3.3 and support will be removed two minor releases later\n",
      "  line2, = plt.plot(epochs_mbsgd8, objvals_mbsgd8, '-g', LineWidth=2)\n",
      "<ipython-input-79-87712f56ef7f>:15: MatplotlibDeprecationWarning: Case-insensitive properties were deprecated in 3.3 and support will be removed two minor releases later\n",
      "  line3, = plt.plot(epochs_mbsgd64, objvals_mbsgd64, '-m', LineWidth=2)\n",
      "<ipython-input-79-87712f56ef7f>:16: MatplotlibDeprecationWarning: Case-insensitive properties were deprecated in 3.3 and support will be removed two minor releases later\n",
      "  plt.xlabel('Epochs', FontSize=20)\n",
      "<ipython-input-79-87712f56ef7f>:17: MatplotlibDeprecationWarning: Case-insensitive properties were deprecated in 3.3 and support will be removed two minor releases later\n",
      "  plt.ylabel('Objective Value', FontSize=20)\n",
      "<ipython-input-79-87712f56ef7f>:18: MatplotlibDeprecationWarning: Case-insensitive properties were deprecated in 3.3 and support will be removed two minor releases later\n",
      "  plt.xticks(FontSize=16)\n",
      "<ipython-input-79-87712f56ef7f>:19: MatplotlibDeprecationWarning: Case-insensitive properties were deprecated in 3.3 and support will be removed two minor releases later\n",
      "  plt.yticks(FontSize=16)\n"
     ]
    },
    {
     "data": {
      "image/png": "[encoded data removed]",
      "text/plain": [
       "<Figure size 432x288 with 1 Axes>"
      ]
     },
     "metadata": {
      "needs_background": "light"
     },
     "output_type": "display_data"
    }
   ],
   "source": [
    "# plot the 4 curves:\n",
    "import matplotlib.pyplot as plt\n",
    "%matplotlib inline\n",
    "\n",
    "fig = plt.figure(figsize=(6, 4))\n",
    "\n",
    "epochs_gd = range(len(objvals_gd))\n",
    "epochs_sgd = range(len(objvals_sgd))\n",
    "epochs_mbsgd8 = range(len(objvals_mbsgd8))\n",
    "epochs_mbsgd64 = range(len(objvals_mbsgd64))\n",
    "\n",
    "line0, = plt.plot(epochs_gd, objvals_gd, '--b', LineWidth=4)\n",
    "line1, = plt.plot(epochs_sgd, objvals_sgd, '-r', LineWidth=2)\n",
    "line2, = plt.plot(epochs_mbsgd8, objvals_mbsgd8, '-g', LineWidth=2)\n",
    "line3, = plt.plot(epochs_mbsgd64, objvals_mbsgd64, '-m', LineWidth=2)\n",
    "plt.xlabel('Epochs', FontSize=20)\n",
    "plt.ylabel('Objective Value', FontSize=20)\n",
    "plt.xticks(FontSize=16)\n",
    "plt.yticks(FontSize=16)\n",
    "plt.legend([line0, line1, line2, line3], ['GD', 'SGD', 'MBSGD8', 'MBSGD64'], fontsize=20)\n",
    "plt.tight_layout()\n",
    "plt.show()\n",
    "fig.savefig('compare_gd_sgd_mbsgd8_mbsgd64.pdf', format='pdf', dpi=1200)"
   ]
  },
  {
   "cell_type": "markdown",
   "metadata": {},
   "source": []
  }
 ],
 "metadata": {
  "kernelspec": {
   "display_name": "Python 3",
   "language": "python",
   "name": "python3"
  },
  "language_info": {
   "codemirror_mode": {
    "name": "ipython",
    "version": 3
   },
   "file_extension": ".py",
   "mimetype": "text/x-python",
   "name": "python",
   "nbconvert_exporter": "python",
   "pygments_lexer": "ipython3",
   "version": "3.8.5"
  }
 },
 "nbformat": 4,
 "nbformat_minor": 2
}
